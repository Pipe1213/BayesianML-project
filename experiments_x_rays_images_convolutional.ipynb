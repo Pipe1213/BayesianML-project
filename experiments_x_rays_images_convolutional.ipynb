{
 "cells": [
  {
   "cell_type": "markdown",
   "metadata": {},
   "source": [
    "**Pneumonia type classification using Loss Calibration for BNN approach**\n",
    "\n",
    "We are going to focus on three classes of images:\n",
    "\n",
    "1. Normal: not pneumonia\n",
    "2. Bacterial Pneumonia\n",
    "3. Viral Pneumonia: not covid-19\n",
    "4. Covid-19\n",
    "\n",
    "We want to maximize the capacity of the model to predict correctly the covid-19 cases from images and avoid false negatives mostly for this class. Then we are going to proposse a utility function based on the paper idea in order to obtain good results for this task."
   ]
  },
  {
   "cell_type": "code",
   "execution_count": 53,
   "metadata": {},
   "outputs": [],
   "source": [
    "import os\n",
    "import cv2\n",
    "import numpy as np\n",
    "from sklearn.model_selection import train_test_split\n",
    "import matplotlib.pyplot as plt\n",
    "\n",
    "import keras\n",
    "from keras import backend as K\n",
    "from keras.models import Sequential, Model\n",
    "from keras.metrics import binary_accuracy\n",
    "from keras.layers import Input\n",
    "from keras.layers.core import Dense, Dropout, Activation, Layer, Lambda\n",
    "from keras.layers.convolutional import Convolution2D, MaxPooling2D\n",
    "from keras.regularizers import l2\n",
    "from keras.optimizers import RMSprop, Adadelta, adam\n",
    "from keras.utils import to_categorical\n",
    "import random\n",
    "\n",
    "\n",
    "import sys\n",
    "sys.path.insert(0, './code/')\n",
    "sys.path.insert(0, './data/')\n",
    "import lcbnn_multiclass as lcbnn\n",
    "from utils import plot_confusion_matrix\n",
    "import tensorflow as tf\n",
    "import numpy as np\n",
    "import random\n",
    "from sklearn.metrics import accuracy_score\n",
    "from sklearn.metrics import confusion_matrix\n",
    "\n",
    "import matplotlib.pyplot as plt\n",
    "import matplotlib.cm as cm\n",
    "\n",
    "\n",
    "\n",
    "np.random.seed(seed=0)\n",
    "random.seed(0)"
   ]
  },
  {
   "cell_type": "code",
   "execution_count": 54,
   "metadata": {},
   "outputs": [],
   "source": [
    "#paths\n",
    "data = './data/'\n",
    "covid_path = data + './data/COVID-19/' \n",
    "x_ray_path = data + './data/chest_xray/'"
   ]
  },
  {
   "cell_type": "code",
   "execution_count": 55,
   "metadata": {},
   "outputs": [],
   "source": [
    "IMG_SIZE = 32"
   ]
  },
  {
   "cell_type": "code",
   "execution_count": 56,
   "metadata": {},
   "outputs": [],
   "source": [
    "def read_images(images_paths):\n",
    "    images = []\n",
    "    for image_path in images_paths:\n",
    "        image = cv2.imread(image_path)\n",
    "        # resize image\n",
    "        image = cv2.resize(image,(IMG_SIZE,IMG_SIZE))\n",
    "        # transform to grayscale\n",
    "        # image = cv2.cvtColor(image,cv2.COLOR_RGB2GRAY)\n",
    "        images.append(image)\n",
    "    # reshape images to 1D array\n",
    "    # images = np.array(images).reshape(-1,IMG_SIZE*IMG_SIZE)\n",
    "    return np.array(images)"
   ]
  },
  {
   "cell_type": "code",
   "execution_count": 57,
   "metadata": {},
   "outputs": [],
   "source": [
    "X_train = np.array([])\n",
    "y_train = np.array([])\n",
    "X_test = np.array([])\n",
    "y_test = np.array([])\n",
    "X_val = np.array([])\n",
    "y_val = np.array([])"
   ]
  },
  {
   "cell_type": "code",
   "execution_count": 58,
   "metadata": {},
   "outputs": [],
   "source": [
    "# read covid images\n",
    "covid_images_paths = [covid_path + file_name for file_name in os.listdir(covid_path)]\n",
    "covid_images = read_images(covid_images_paths)"
   ]
  },
  {
   "cell_type": "code",
   "execution_count": 59,
   "metadata": {},
   "outputs": [
    {
     "data": {
      "text/plain": [
       "(196, 32, 32, 3)"
      ]
     },
     "execution_count": 59,
     "metadata": {},
     "output_type": "execute_result"
    }
   ],
   "source": [
    "covid_images.shape"
   ]
  },
  {
   "cell_type": "code",
   "execution_count": 60,
   "metadata": {},
   "outputs": [
    {
     "data": {
      "text/plain": [
       "(156, 40)"
      ]
     },
     "execution_count": 60,
     "metadata": {},
     "output_type": "execute_result"
    }
   ],
   "source": [
    "covid_train, covid_test = train_test_split(covid_images, test_size=0.2, random_state=42)\n",
    "len(covid_train), len(covid_test)"
   ]
  },
  {
   "cell_type": "code",
   "execution_count": 61,
   "metadata": {},
   "outputs": [
    {
     "data": {
      "text/plain": [
       "(40, 32, 32, 3)"
      ]
     },
     "execution_count": 61,
     "metadata": {},
     "output_type": "execute_result"
    }
   ],
   "source": [
    "covid_test.shape"
   ]
  },
  {
   "cell_type": "code",
   "execution_count": 62,
   "metadata": {},
   "outputs": [],
   "source": [
    "# add covid images to train and test\n",
    "X_train = covid_train\n",
    "y_train = np.ones(len(covid_train))*3\n",
    "X_test = covid_test\n",
    "y_test = np.ones(len(covid_test))*3"
   ]
  },
  {
   "cell_type": "code",
   "execution_count": 63,
   "metadata": {},
   "outputs": [
    {
     "data": {
      "text/plain": [
       "((156, 32, 32, 3), (156,), (40, 32, 32, 3), (40,))"
      ]
     },
     "execution_count": 63,
     "metadata": {},
     "output_type": "execute_result"
    }
   ],
   "source": [
    "X_train.shape, y_train.shape, X_test.shape, y_test.shape"
   ]
  },
  {
   "cell_type": "code",
   "execution_count": 64,
   "metadata": {},
   "outputs": [],
   "source": [
    "# read normal images\n",
    "normal_train_paths = [x_ray_path + 'train/NORMAL/' + file_name for file_name in os.listdir(x_ray_path + 'train/NORMAL/')]\n",
    "normal_train = read_images(normal_train_paths)\n",
    "normal_test_paths = [x_ray_path + 'test/NORMAL/' + file_name for file_name in os.listdir(x_ray_path + 'test/NORMAL/')]\n",
    "normal_test = read_images(normal_test_paths)"
   ]
  },
  {
   "cell_type": "code",
   "execution_count": 65,
   "metadata": {},
   "outputs": [],
   "source": [
    "# add normal images to train and test\n",
    "X_train = np.concatenate((X_train, normal_train))\n",
    "y_train = np.concatenate((y_train, np.zeros(len(normal_train))))\n",
    "X_test = np.concatenate((X_test, normal_test))\n",
    "y_test = np.concatenate((y_test, np.zeros(len(normal_test))))"
   ]
  },
  {
   "cell_type": "code",
   "execution_count": 66,
   "metadata": {},
   "outputs": [
    {
     "data": {
      "text/plain": [
       "((1505, 32, 32, 3), (1505,), (274, 32, 32, 3), (274,))"
      ]
     },
     "execution_count": 66,
     "metadata": {},
     "output_type": "execute_result"
    }
   ],
   "source": [
    "X_train.shape, y_train.shape, X_test.shape, y_test.shape"
   ]
  },
  {
   "cell_type": "code",
   "execution_count": 67,
   "metadata": {},
   "outputs": [],
   "source": [
    "# read pneumonia images\n",
    "pneumonia_train_paths = [x_ray_path + 'train/PNEUMONIA/' + file_name for file_name in os.listdir(x_ray_path + 'train/PNEUMONIA/')]\n",
    "pneumonia_train = read_images(pneumonia_train_paths)\n",
    "pneumonia_test_paths = [x_ray_path + 'test/PNEUMONIA/' + file_name for file_name in os.listdir(x_ray_path + 'test/PNEUMONIA/')]\n",
    "pneumonia_test = read_images(pneumonia_test_paths)"
   ]
  },
  {
   "cell_type": "code",
   "execution_count": 68,
   "metadata": {},
   "outputs": [],
   "source": [
    "# get labels for bacterial and viral pneumonia\n",
    "pneumonia_train_labels = [1 if 'bacteria' in file_name else 2 for file_name in pneumonia_train_paths]\n",
    "pneumonia_test_labels = [1 if 'bacteria' in file_name else 2 for file_name in pneumonia_test_paths]"
   ]
  },
  {
   "cell_type": "code",
   "execution_count": 69,
   "metadata": {},
   "outputs": [],
   "source": [
    "# add pneumonia images to train and test\n",
    "X_train = np.concatenate((X_train, pneumonia_train))\n",
    "y_train = np.concatenate((y_train, pneumonia_train_labels))\n",
    "X_test = np.concatenate((X_test, pneumonia_test))\n",
    "y_test = np.concatenate((y_test, pneumonia_test_labels))"
   ]
  },
  {
   "cell_type": "code",
   "execution_count": 70,
   "metadata": {},
   "outputs": [
    {
     "data": {
      "text/plain": [
       "((5388, 32, 32, 3), (5388,), (664, 32, 32, 3), (664,))"
      ]
     },
     "execution_count": 70,
     "metadata": {},
     "output_type": "execute_result"
    }
   ],
   "source": [
    "X_train.shape, y_train.shape, X_test.shape, y_test.shape"
   ]
  },
  {
   "cell_type": "code",
   "execution_count": 71,
   "metadata": {},
   "outputs": [],
   "source": [
    "# shuffle data\n",
    "np.random.seed(42)\n",
    "permutation = np.random.permutation(X_train.shape[0])\n",
    "X_train = X_train[permutation]\n",
    "y_train = y_train[permutation]\n",
    "\n",
    "permutation = np.random.permutation(X_test.shape[0])\n",
    "X_test = X_test[permutation]\n",
    "y_test = y_test[permutation]"
   ]
  },
  {
   "cell_type": "code",
   "execution_count": 72,
   "metadata": {},
   "outputs": [
    {
     "name": "stderr",
     "output_type": "stream",
     "text": [
      "c:\\Users\\felip\\miniconda3\\envs\\vits-pip\\lib\\site-packages\\ipykernel_launcher.py:16: MatplotlibDeprecationWarning: Passing the minor parameter of set_ticks() positionally is deprecated since Matplotlib 3.2; the parameter will become keyword-only two minor releases later.\n",
      "  app.launch_new_instance()\n"
     ]
    },
    {
     "data": {
      "image/png": "[encoded data removed]",
      "text/plain": [
       "<Figure size 1080x1080 with 1 Axes>"
      ]
     },
     "metadata": {
      "needs_background": "light"
     },
     "output_type": "display_data"
    }
   ],
   "source": [
    "# plot the distribution of the classes on train and test\n",
    "x = np.arange(4)  # the label locations\n",
    "width = 0.25  # the width of the bars\n",
    "multiplier = 0\n",
    "\n",
    "fig, ax = plt.subplots()\n",
    "\n",
    "for l in ['train', 'test']:\n",
    "    offset = width * multiplier\n",
    "    v = [np.sum(y_train == i) if l == 'train' else np.sum(y_test == i) for i in range(4)]\n",
    "    rects = ax.bar(x + offset, v, width, label=l)\n",
    "    multiplier += 1\n",
    "\n",
    "ax.set_ylabel('number of images')\n",
    "ax.set_title('Number of images per class')\n",
    "ax.set_xticks(x + width, ['Normal', 'Bacterial', 'Viral', 'COVID-19'])\n",
    "ax.legend(loc='upper right')\n",
    "\n",
    "plt.xticks(rotation=90)\n",
    "\n",
    "plt.show()\n"
   ]
  },
  {
   "cell_type": "code",
   "execution_count": 73,
   "metadata": {},
   "outputs": [
    {
     "data": {
      "image/png": "[encoded data removed]",
      "text/plain": [
       "<Figure size 720x720 with 16 Axes>"
      ]
     },
     "metadata": {
      "needs_background": "light"
     },
     "output_type": "display_data"
    }
   ],
   "source": [
    "# visualize some images for each class\n",
    "classes = ['Normal', 'Bacterial', 'Viral', 'COVID-19']\n",
    "# classes = ['Normal', 'Bacterial', 'Viral', 'COVID-19']\n",
    "\n",
    "fig, ax = plt.subplots(4, 4, figsize=(10, 10))\n",
    "for i in range(4):\n",
    "    for j in range(4):\n",
    "        ax[i, j].imshow(X_train[y_train == i][j])\n",
    "        ax[i, j].set_title(classes[i])\n",
    "        ax[i, j].axis('off')\n",
    "plt.show()"
   ]
  },
  {
   "cell_type": "code",
   "execution_count": 74,
   "metadata": {},
   "outputs": [
    {
     "name": "stdout",
     "output_type": "stream",
     "text": [
      "Utility function matrix: \n",
      "[[1.  0.  0.  0. ]\n",
      " [0.  1.  0.1 0. ]\n",
      " [0.1 0.3 1.  0. ]\n",
      " [0.1 0.4 0.7 1.3]]\n"
     ]
    }
   ],
   "source": [
    "# define the utility function for the problem\n",
    "U = 1*np.eye(4)\n",
    "U[0,1] = 0 # pred = normal, true = bacterial\n",
    "U[0,2] = 0 # pred = normal, true = viral\n",
    "U[0,3] = 0 # pred = normal, true = covid\n",
    "U[1,0] = 0 # pred = bacterial, true = normal\n",
    "U[1,2] = 0.1 # pred = bacterial, true = viral\n",
    "U[1,3] = 0 # pred = bacterial, true = covid\n",
    "U[2,0] = 0.1 # pred = viral, true = normal\n",
    "U[2,1] = 0.3 # pred = viral, true = bacterial\n",
    "U[2,3] = 0 # pred = viral, true = covid\n",
    "U[3,0] = 0.1 # pred = covid, true = normal\n",
    "U[3,1] = 0.4 # pred = covid, true = bacterial\n",
    "U[3,2] = 0.7 # pred = covid, true = viral\n",
    "U[3,3] = 1.3\n",
    "\n",
    "\n",
    "print(\"Utility function matrix: \")\n",
    "print(U)\n",
    "U = 1.0001 - U\n",
    "# print(U)\n"
   ]
  },
  {
   "cell_type": "code",
   "execution_count": 75,
   "metadata": {},
   "outputs": [
    {
     "name": "stdout",
     "output_type": "stream",
     "text": [
      "Training data classes count: {0.0: 1079, 1.0: 2030, 2.0: 1076, 3.0: 125}\n",
      "Training data classes count: {0.0: 270, 1.0: 508, 2.0: 269, 3.0: 31}\n"
     ]
    }
   ],
   "source": [
    "num_classes = 4\n",
    "x_train, x_val, y_train, y_val = train_test_split(X_train, y_train, test_size=0.2, random_state=42, stratify=y_train)\n",
    "unique, counts = np.unique(y_train, return_counts=True)\n",
    "print(f\"Training data classes count: {dict(zip(unique,counts))}\")\n",
    "unique, counts = np.unique(y_val, return_counts=True)\n",
    "print(f\"Training data classes count: {dict(zip(unique,counts))}\")"
   ]
  },
  {
   "cell_type": "code",
   "execution_count": 76,
   "metadata": {},
   "outputs": [],
   "source": [
    "y_train = to_categorical(y_train, num_classes)\n",
    "y_test = to_categorical(y_test, num_classes)\n",
    "y_val = to_categorical(y_val, num_classes)"
   ]
  },
  {
   "cell_type": "code",
   "execution_count": 77,
   "metadata": {},
   "outputs": [],
   "source": [
    "x_train = x_train/255\n",
    "x_val = x_val/255\n",
    "X_test = X_test/255"
   ]
  },
  {
   "cell_type": "code",
   "execution_count": 94,
   "metadata": {},
   "outputs": [],
   "source": [
    "x_train_nc = x_train.reshape(-1,IMG_SIZE*IMG_SIZE*3)\n",
    "x_val_nc = x_val.reshape(-1,IMG_SIZE*IMG_SIZE*3)\n",
    "X_test_nc = X_test.reshape(-1, IMG_SIZE*IMG_SIZE*3)"
   ]
  },
  {
   "cell_type": "code",
   "execution_count": 95,
   "metadata": {},
   "outputs": [],
   "source": [
    "Early_Stop_acc = keras.callbacks.EarlyStopping(monitor='val_acc', min_delta=0, patience=20, verbose=1, mode='auto')\n",
    "# units\n",
    "units = 80\n",
    "\n",
    "dropout=0.2\n",
    "# Regularise\n",
    "tau = 1.0\n",
    "lengthscale = .01\n",
    "reg = lengthscale**2 * (1 - dropout) / (2. * len(x_train) * tau)\n",
    "\n",
    "def network():\n",
    "    model = Sequential()\n",
    "    model.add(Dense(units, activation='relu', input_shape=x_train_nc.shape[1:],W_regularizer=l2(reg)))\n",
    "    model.add(Lambda(lambda x: K.dropout(x,level=dropout)))\n",
    "    model.add(Dense(units, activation='relu',W_regularizer=l2(reg)))\n",
    "    model.add(Lambda(lambda x: K.dropout(x,level=dropout)))\n",
    "    model.add(Dense(units, activation='relu',W_regularizer=l2(reg)))\n",
    "    model.add(Lambda(lambda x: K.dropout(x,level=dropout)))\n",
    "    model.add(Dense(num_classes, activation='softmax',W_regularizer=l2(reg)))\n",
    "    return model\n",
    "\n",
    "def conv_network():\n",
    "    model_cnv = Sequential()\n",
    "    model_cnv.add(keras.layers.Conv2D(32, (3,3), activation='relu', input_shape = (32,32,3)))\n",
    "    model_cnv.add(MaxPooling2D())\n",
    "    model_cnv.add(keras.layers.Conv2D(64, (3,3), activation='relu'))\n",
    "    model_cnv.add(MaxPooling2D())\n",
    "    model_cnv.add(keras.layers.Conv2D(64, (3,3), activation='relu'))\n",
    "    model_cnv.add(keras.layers.Flatten())\n",
    "    model_cnv.add(Dense(128, activation='relu', W_regularizer=l2(reg)))\n",
    "    model_cnv.add(Lambda(lambda x: K.dropout(x,level=dropout)))\n",
    "    model_cnv.add(Dense(num_classes, activation='softmax',W_regularizer=l2(reg)))\n",
    "    return model_cnv"
   ]
  },
  {
   "cell_type": "code",
   "execution_count": null,
   "metadata": {},
   "outputs": [],
   "source": [
    "epochs = 30\n",
    "batch_size = 16\n",
    "std_model = network()\n",
    "std_model.compile(loss='categorical_crossentropy',\n",
    "                  optimizer='adam',\n",
    "                  metrics=['accuracy'])\n",
    "\n",
    "history_std = std_model.fit(x_train_nc, y_train,\n",
    "                  batch_size=batch_size,\n",
    "                  epochs=epochs,\n",
    "                  verbose=1,\n",
    "                  validation_data=[x_val_nc,y_val],\n",
    "                  )"
   ]
  },
  {
   "cell_type": "markdown",
   "metadata": {},
   "source": [
    "**Experiments using the convolutional neural network (more complex architecture)**"
   ]
  },
  {
   "cell_type": "markdown",
   "metadata": {},
   "source": [
    "**Standar approach**"
   ]
  },
  {
   "cell_type": "code",
   "execution_count": 79,
   "metadata": {},
   "outputs": [
    {
     "name": "stderr",
     "output_type": "stream",
     "text": [
      "c:\\Users\\felip\\miniconda3\\envs\\vits-pip\\lib\\site-packages\\ipykernel_launcher.py:30: UserWarning: Update your `Dense` call to the Keras 2 API: `Dense(128, activation=\"relu\", kernel_regularizer=<keras.reg...)`\n",
      "c:\\Users\\felip\\miniconda3\\envs\\vits-pip\\lib\\site-packages\\ipykernel_launcher.py:32: UserWarning: Update your `Dense` call to the Keras 2 API: `Dense(4, activation=\"softmax\", kernel_regularizer=<keras.reg...)`\n"
     ]
    },
    {
     "name": "stdout",
     "output_type": "stream",
     "text": [
      "Train on 4310 samples, validate on 1078 samples\n",
      "Epoch 1/30\n",
      "4310/4310 [==============================] - 3s 773us/step - loss: 0.9057 - acc: 0.5991 - val_loss: 0.7110 - val_acc: 0.6939\n",
      "Epoch 2/30\n",
      "4310/4310 [==============================] - 3s 698us/step - loss: 0.6058 - acc: 0.7353 - val_loss: 0.5875 - val_acc: 0.7588\n",
      "Epoch 3/30\n",
      "4310/4310 [==============================] - 3s 700us/step - loss: 0.5223 - acc: 0.7782 - val_loss: 0.5543 - val_acc: 0.7588\n",
      "Epoch 4/30\n",
      "4310/4310 [==============================] - 3s 668us/step - loss: 0.4974 - acc: 0.7863 - val_loss: 0.5318 - val_acc: 0.7625\n",
      "Epoch 5/30\n",
      "4310/4310 [==============================] - 3s 687us/step - loss: 0.4631 - acc: 0.7949 - val_loss: 0.5200 - val_acc: 0.7718\n",
      "Epoch 6/30\n",
      "4310/4310 [==============================] - 3s 665us/step - loss: 0.4416 - acc: 0.8084 - val_loss: 0.4875 - val_acc: 0.7839\n",
      "Epoch 7/30\n",
      "4310/4310 [==============================] - 3s 640us/step - loss: 0.4257 - acc: 0.8174 - val_loss: 0.5376 - val_acc: 0.7681\n",
      "Epoch 8/30\n",
      "4310/4310 [==============================] - 3s 648us/step - loss: 0.4012 - acc: 0.8288 - val_loss: 0.5017 - val_acc: 0.7950\n",
      "Epoch 9/30\n",
      "4310/4310 [==============================] - 3s 654us/step - loss: 0.3954 - acc: 0.8260 - val_loss: 0.5198 - val_acc: 0.7829\n",
      "Epoch 10/30\n",
      "4310/4310 [==============================] - 3s 631us/step - loss: 0.3674 - acc: 0.8404 - val_loss: 0.5228 - val_acc: 0.7866\n",
      "Epoch 11/30\n",
      "4310/4310 [==============================] - 3s 635us/step - loss: 0.3661 - acc: 0.8369 - val_loss: 0.5219 - val_acc: 0.7792\n",
      "Epoch 12/30\n",
      "4310/4310 [==============================] - 3s 636us/step - loss: 0.3378 - acc: 0.8513 - val_loss: 0.5384 - val_acc: 0.7699\n",
      "Epoch 13/30\n",
      "4310/4310 [==============================] - 3s 644us/step - loss: 0.3294 - acc: 0.8515 - val_loss: 0.5268 - val_acc: 0.7857\n",
      "Epoch 14/30\n",
      "4310/4310 [==============================] - 3s 642us/step - loss: 0.3249 - acc: 0.8592 - val_loss: 0.6058 - val_acc: 0.7774\n",
      "Epoch 15/30\n",
      "4310/4310 [==============================] - 3s 635us/step - loss: 0.3057 - acc: 0.8694 - val_loss: 0.5885 - val_acc: 0.7764\n",
      "Epoch 16/30\n",
      "4310/4310 [==============================] - 3s 643us/step - loss: 0.2753 - acc: 0.8784 - val_loss: 0.5995 - val_acc: 0.7774\n",
      "Epoch 17/30\n",
      "4310/4310 [==============================] - 3s 709us/step - loss: 0.2634 - acc: 0.8805 - val_loss: 0.6066 - val_acc: 0.7764\n",
      "Epoch 18/30\n",
      "4310/4310 [==============================] - 3s 712us/step - loss: 0.2503 - acc: 0.8896 - val_loss: 0.7166 - val_acc: 0.7699\n",
      "Epoch 19/30\n",
      "4310/4310 [==============================] - 3s 634us/step - loss: 0.2316 - acc: 0.8972 - val_loss: 0.6099 - val_acc: 0.7746\n",
      "Epoch 20/30\n",
      "4310/4310 [==============================] - 3s 650us/step - loss: 0.2146 - acc: 0.9104 - val_loss: 0.6759 - val_acc: 0.7774: 0s - loss: 0.2151 - acc: 0.91\n",
      "Epoch 21/30\n",
      "4310/4310 [==============================] - 3s 637us/step - loss: 0.1925 - acc: 0.9183 - val_loss: 0.7689 - val_acc: 0.7662\n",
      "Epoch 22/30\n",
      "4310/4310 [==============================] - 3s 637us/step - loss: 0.1745 - acc: 0.9232 - val_loss: 0.7995 - val_acc: 0.7690\n",
      "Epoch 23/30\n",
      "4310/4310 [==============================] - 3s 634us/step - loss: 0.1555 - acc: 0.9346 - val_loss: 0.7980 - val_acc: 0.7672\n",
      "Epoch 24/30\n",
      "4310/4310 [==============================] - 3s 640us/step - loss: 0.1452 - acc: 0.9422 - val_loss: 0.9025 - val_acc: 0.7709\n",
      "Epoch 25/30\n",
      "4310/4310 [==============================] - 3s 640us/step - loss: 0.1469 - acc: 0.9376 - val_loss: 0.8959 - val_acc: 0.7755\n",
      "Epoch 26/30\n",
      "4310/4310 [==============================] - 3s 641us/step - loss: 0.1168 - acc: 0.9524 - val_loss: 0.9761 - val_acc: 0.7783\n",
      "Epoch 27/30\n",
      "4310/4310 [==============================] - 3s 623us/step - loss: 0.1101 - acc: 0.9548 - val_loss: 1.1401 - val_acc: 0.7486\n",
      "Epoch 28/30\n",
      "4310/4310 [==============================] - 3s 625us/step - loss: 0.1087 - acc: 0.9555 - val_loss: 1.0025 - val_acc: 0.7755\n",
      "Epoch 29/30\n",
      "4310/4310 [==============================] - 3s 636us/step - loss: 0.1014 - acc: 0.9545 - val_loss: 1.1534 - val_acc: 0.7597\n",
      "Epoch 30/30\n",
      "4310/4310 [==============================] - 3s 627us/step - loss: 0.1001 - acc: 0.9599 - val_loss: 1.1012 - val_acc: 0.7727\n"
     ]
    }
   ],
   "source": [
    "epochs = 30\n",
    "batch_size = 16\n",
    "std_model_cnv = conv_network()\n",
    "std_model_cnv.compile(loss='categorical_crossentropy',\n",
    "                  optimizer='adam',\n",
    "                  metrics=['accuracy'])\n",
    "\n",
    "history_std_cnv = std_model_cnv.fit(x_train, y_train,\n",
    "                  batch_size=batch_size,\n",
    "                  epochs=epochs,\n",
    "                  verbose=1,\n",
    "                  validation_data=[x_val,y_val],\n",
    "                  )"
   ]
  },
  {
   "cell_type": "markdown",
   "metadata": {},
   "source": [
    "**Weighted**"
   ]
  },
  {
   "cell_type": "code",
   "execution_count": null,
   "metadata": {},
   "outputs": [],
   "source": [
    "# Set up weight for weighted cross entropy\n",
    "# goal_class = [3]\n",
    "class_weight = np.ones((num_classes))\n",
    "class_weight[0] = 1.3\n",
    "class_weight[2] = 1.3\n",
    "class_weight[3] = 1.5"
   ]
  },
  {
   "cell_type": "code",
   "execution_count": 80,
   "metadata": {},
   "outputs": [
    {
     "name": "stderr",
     "output_type": "stream",
     "text": [
      "c:\\Users\\felip\\miniconda3\\envs\\vits-pip\\lib\\site-packages\\ipykernel_launcher.py:30: UserWarning: Update your `Dense` call to the Keras 2 API: `Dense(128, activation=\"relu\", kernel_regularizer=<keras.reg...)`\n",
      "c:\\Users\\felip\\miniconda3\\envs\\vits-pip\\lib\\site-packages\\ipykernel_launcher.py:32: UserWarning: Update your `Dense` call to the Keras 2 API: `Dense(4, activation=\"softmax\", kernel_regularizer=<keras.reg...)`\n"
     ]
    },
    {
     "name": "stdout",
     "output_type": "stream",
     "text": [
      "Train on 4310 samples, validate on 1078 samples\n",
      "Epoch 1/30\n",
      "4310/4310 [==============================] - 3s 788us/step - loss: 0.9775 - acc: 0.5722 - val_loss: 0.6912 - val_acc: 0.7041\n",
      "Epoch 2/30\n",
      "4310/4310 [==============================] - 3s 673us/step - loss: 0.6138 - acc: 0.7369 - val_loss: 0.5840 - val_acc: 0.7440\n",
      "Epoch 3/30\n",
      "4310/4310 [==============================] - 3s 673us/step - loss: 0.5295 - acc: 0.7735 - val_loss: 0.6465 - val_acc: 0.7449\n",
      "Epoch 4/30\n",
      "4310/4310 [==============================] - 3s 663us/step - loss: 0.5050 - acc: 0.7840 - val_loss: 0.5297 - val_acc: 0.7746\n",
      "Epoch 5/30\n",
      "4310/4310 [==============================] - 3s 669us/step - loss: 0.4619 - acc: 0.7993 - val_loss: 0.5083 - val_acc: 0.7829\n",
      "Epoch 6/30\n",
      "4310/4310 [==============================] - 3s 661us/step - loss: 0.4397 - acc: 0.8090 - val_loss: 0.5209 - val_acc: 0.7681\n",
      "Epoch 7/30\n",
      "4310/4310 [==============================] - 3s 661us/step - loss: 0.4272 - acc: 0.8109 - val_loss: 0.5152 - val_acc: 0.7746\n",
      "Epoch 8/30\n",
      "4310/4310 [==============================] - 3s 651us/step - loss: 0.4018 - acc: 0.8278 - val_loss: 0.5008 - val_acc: 0.7783\n",
      "Epoch 9/30\n",
      "4310/4310 [==============================] - 3s 647us/step - loss: 0.3913 - acc: 0.8276 - val_loss: 0.4863 - val_acc: 0.8015\n",
      "Epoch 10/30\n",
      "4310/4310 [==============================] - 3s 649us/step - loss: 0.3714 - acc: 0.8415 - val_loss: 0.5068 - val_acc: 0.7829\n",
      "Epoch 11/30\n",
      "4310/4310 [==============================] - 3s 643us/step - loss: 0.3715 - acc: 0.8376 - val_loss: 0.4921 - val_acc: 0.7876\n",
      "Epoch 12/30\n",
      "4310/4310 [==============================] - 3s 647us/step - loss: 0.3403 - acc: 0.8425 - val_loss: 0.5052 - val_acc: 0.7820\n",
      "Epoch 13/30\n",
      "4310/4310 [==============================] - 3s 649us/step - loss: 0.3226 - acc: 0.8617 - val_loss: 0.6305 - val_acc: 0.7783\n",
      "Epoch 14/30\n",
      "4310/4310 [==============================] - 3s 643us/step - loss: 0.3199 - acc: 0.8573 - val_loss: 0.5429 - val_acc: 0.7792\n",
      "Epoch 15/30\n",
      "4310/4310 [==============================] - 3s 649us/step - loss: 0.2968 - acc: 0.8666 - val_loss: 0.5284 - val_acc: 0.7792\n",
      "Epoch 16/30\n",
      "4310/4310 [==============================] - 3s 650us/step - loss: 0.2867 - acc: 0.8745 - val_loss: 0.5544 - val_acc: 0.7801 0.2989 \n",
      "Epoch 17/30\n",
      "4310/4310 [==============================] - 3s 649us/step - loss: 0.2701 - acc: 0.8824 - val_loss: 0.5394 - val_acc: 0.7718\n",
      "Epoch 18/30\n",
      "4310/4310 [==============================] - 3s 658us/step - loss: 0.2528 - acc: 0.8891 - val_loss: 0.6600 - val_acc: 0.7885loss: 0.2540 - acc: 0\n",
      "Epoch 19/30\n",
      "4310/4310 [==============================] - 3s 649us/step - loss: 0.2356 - acc: 0.8993 - val_loss: 0.5971 - val_acc: 0.7616\n",
      "Epoch 20/30\n",
      "4310/4310 [==============================] - 3s 656us/step - loss: 0.2261 - acc: 0.9060 - val_loss: 0.6396 - val_acc: 0.7709\n",
      "Epoch 21/30\n",
      "4310/4310 [==============================] - 3s 639us/step - loss: 0.2026 - acc: 0.9121 - val_loss: 0.7647 - val_acc: 0.7709\n",
      "Epoch 22/30\n",
      "4310/4310 [==============================] - 3s 646us/step - loss: 0.1851 - acc: 0.9237 - val_loss: 0.6683 - val_acc: 0.77641933 - acc: 0.91 - ETA: 1s - loss:\n",
      "Epoch 23/30\n",
      "4310/4310 [==============================] - 3s 654us/step - loss: 0.1761 - acc: 0.9281 - val_loss: 0.8616 - val_acc: 0.7746\n",
      "Epoch 24/30\n",
      "4310/4310 [==============================] - 3s 676us/step - loss: 0.1721 - acc: 0.9302 - val_loss: 0.7976 - val_acc: 0.7672\n",
      "Epoch 25/30\n",
      "4310/4310 [==============================] - 3s 679us/step - loss: 0.1524 - acc: 0.9390 - val_loss: 0.8165 - val_acc: 0.7393\n",
      "Epoch 26/30\n",
      "4310/4310 [==============================] - 3s 667us/step - loss: 0.1394 - acc: 0.9399 - val_loss: 0.8634 - val_acc: 0.7672\n",
      "Epoch 27/30\n",
      "4310/4310 [==============================] - 3s 639us/step - loss: 0.1165 - acc: 0.9501 - val_loss: 0.9796 - val_acc: 0.7783\n",
      "Epoch 28/30\n",
      "4310/4310 [==============================] - 3s 684us/step - loss: 0.1056 - acc: 0.9573 - val_loss: 1.1506 - val_acc: 0.7542\n",
      "Epoch 29/30\n",
      "4310/4310 [==============================] - 3s 665us/step - loss: 0.1249 - acc: 0.9490 - val_loss: 1.0320 - val_acc: 0.7690\n",
      "Epoch 30/30\n",
      "4310/4310 [==============================] - 3s 687us/step - loss: 0.0840 - acc: 0.9675 - val_loss: 1.1251 - val_acc: 0.7653\n"
     ]
    }
   ],
   "source": [
    "we_model_cnv = conv_network()\n",
    "we_model_cnv.compile(loss='categorical_crossentropy',\n",
    "                  optimizer='adam',\n",
    "                  metrics=['accuracy'])\n",
    "\n",
    "history_we_cnv = we_model_cnv.fit(x_train, y_train,\n",
    "                  batch_size=batch_size,\n",
    "                  epochs=epochs,\n",
    "                  verbose=1,\n",
    "                  validation_data=[x_val,y_val],\n",
    "                  class_weight = class_weight, \n",
    "                  )\n"
   ]
  },
  {
   "cell_type": "markdown",
   "metadata": {},
   "source": [
    "**Loss Calibration**"
   ]
  },
  {
   "cell_type": "code",
   "execution_count": 81,
   "metadata": {},
   "outputs": [
    {
     "name": "stdout",
     "output_type": "stream",
     "text": [
      "0\n"
     ]
    },
    {
     "name": "stderr",
     "output_type": "stream",
     "text": [
      "c:\\Users\\felip\\miniconda3\\envs\\vits-pip\\lib\\site-packages\\ipykernel_launcher.py:30: UserWarning: Update your `Dense` call to the Keras 2 API: `Dense(128, activation=\"relu\", kernel_regularizer=<keras.reg...)`\n",
      "c:\\Users\\felip\\miniconda3\\envs\\vits-pip\\lib\\site-packages\\ipykernel_launcher.py:32: UserWarning: Update your `Dense` call to the Keras 2 API: `Dense(4, activation=\"softmax\", kernel_regularizer=<keras.reg...)`\n",
      "c:\\Users\\felip\\miniconda3\\envs\\vits-pip\\lib\\site-packages\\ipykernel_launcher.py:28: UserWarning: The `nb_epoch` argument in `fit` has been renamed `epochs`.\n"
     ]
    },
    {
     "name": "stdout",
     "output_type": "stream",
     "text": [
      "Train on 4310 samples, validate on 1078 samples\n",
      "Epoch 1/1\n",
      "4310/4310 [==============================] - 4s 819us/step - loss: 1.5762 - val_loss: 1.1222\n",
      "1\n",
      "Train on 4310 samples, validate on 1078 samples\n",
      "Epoch 1/1\n",
      "4310/4310 [==============================] - 3s 675us/step - loss: 0.8729 - val_loss: 1.0212\n",
      "2\n",
      "Train on 4310 samples, validate on 1078 samples\n",
      "Epoch 1/1\n",
      "4310/4310 [==============================] - 3s 692us/step - loss: 0.7717 - val_loss: 0.9208\n",
      "3\n",
      "Train on 4310 samples, validate on 1078 samples\n",
      "Epoch 1/1\n",
      "4310/4310 [==============================] - 3s 689us/step - loss: 0.7043 - val_loss: 0.9075\n",
      "4\n",
      "Train on 4310 samples, validate on 1078 samples\n",
      "Epoch 1/1\n",
      "4310/4310 [==============================] - 3s 699us/step - loss: 0.6644 - val_loss: 0.9069\n",
      "5\n",
      "Train on 4310 samples, validate on 1078 samples\n",
      "Epoch 1/1\n",
      "4310/4310 [==============================] - 3s 649us/step - loss: 0.6344 - val_loss: 0.8864\n",
      "6\n",
      "Train on 4310 samples, validate on 1078 samples\n",
      "Epoch 1/1\n",
      "4310/4310 [==============================] - 3s 641us/step - loss: 0.6114 - val_loss: 0.8945\n",
      "7\n",
      "Train on 4310 samples, validate on 1078 samples\n",
      "Epoch 1/1\n",
      "4310/4310 [==============================] - 3s 668us/step - loss: 0.5898 - val_loss: 0.8398\n",
      "8\n",
      "Train on 4310 samples, validate on 1078 samples\n",
      "Epoch 1/1\n",
      "4310/4310 [==============================] - 3s 657us/step - loss: 0.5821 - val_loss: 0.8827\n",
      "9\n",
      "Train on 4310 samples, validate on 1078 samples\n",
      "Epoch 1/1\n",
      "4310/4310 [==============================] - 3s 693us/step - loss: 0.5478 - val_loss: 0.9631\n",
      "10\n",
      "Train on 4310 samples, validate on 1078 samples\n",
      "Epoch 1/1\n",
      "4310/4310 [==============================] - 3s 716us/step - loss: 0.5483 - val_loss: 0.9569\n",
      "11\n",
      "Train on 4310 samples, validate on 1078 samples\n",
      "Epoch 1/1\n",
      "4310/4310 [==============================] - 3s 660us/step - loss: 0.5475 - val_loss: 0.9757 1s - loss: 0.5 - ETA: 0s - loss: 0.538 - ETA: 0s \n",
      "12\n",
      "Train on 4310 samples, validate on 1078 samples\n",
      "Epoch 1/1\n",
      "4310/4310 [==============================] - 3s 666us/step - loss: 0.5177 - val_loss: 0.9187ss: 0 - ETA: 0s - loss: 0.517 - ETA: 0s - loss\n",
      "13\n",
      "Train on 4310 samples, validate on 1078 samples\n",
      "Epoch 1/1\n",
      "4310/4310 [==============================] - 3s 714us/step - loss: 0.5119 - val_loss: 0.8416\n",
      "14\n",
      "Train on 4310 samples, validate on 1078 samples\n",
      "Epoch 1/1\n",
      "4310/4310 [==============================] - 3s 739us/step - loss: 0.4796 - val_loss: 0.8360\n",
      "15\n",
      "Train on 4310 samples, validate on 1078 samples\n",
      "Epoch 1/1\n",
      "4310/4310 [==============================] - 3s 721us/step - loss: 0.4618 - val_loss: 0.9079\n",
      "16\n",
      "Train on 4310 samples, validate on 1078 samples\n",
      "Epoch 1/1\n",
      "4310/4310 [==============================] - 3s 668us/step - loss: 0.4601 - val_loss: 0.8901\n",
      "17\n",
      "Train on 4310 samples, validate on 1078 samples\n",
      "Epoch 1/1\n",
      "4310/4310 [==============================] - 3s 652us/step - loss: 0.4451 - val_loss: 0.9755\n",
      "18\n",
      "Train on 4310 samples, validate on 1078 samples\n",
      "Epoch 1/1\n",
      "4310/4310 [==============================] - 3s 671us/step - loss: 0.4385 - val_loss: 0.8987\n",
      "19\n",
      "Train on 4310 samples, validate on 1078 samples\n",
      "Epoch 1/1\n",
      "4310/4310 [==============================] - 3s 653us/step - loss: 0.3950 - val_loss: 0.9432\n",
      "20\n",
      "Train on 4310 samples, validate on 1078 samples\n",
      "Epoch 1/1\n",
      "4310/4310 [==============================] - 3s 653us/step - loss: 0.3780 - val_loss: 0.9118\n",
      "21\n",
      "Train on 4310 samples, validate on 1078 samples\n",
      "Epoch 1/1\n",
      "4310/4310 [==============================] - 3s 747us/step - loss: 0.3848 - val_loss: 0.9662\n",
      "22\n",
      "Train on 4310 samples, validate on 1078 samples\n",
      "Epoch 1/1\n",
      "4310/4310 [==============================] - 3s 671us/step - loss: 0.3654 - val_loss: 0.9452\n",
      "23\n",
      "Train on 4310 samples, validate on 1078 samples\n",
      "Epoch 1/1\n",
      "4310/4310 [==============================] - 3s 657us/step - loss: 0.3211 - val_loss: 1.0804\n",
      "24\n",
      "Train on 4310 samples, validate on 1078 samples\n",
      "Epoch 1/1\n",
      "4310/4310 [==============================] - 3s 665us/step - loss: 0.3162 - val_loss: 1.0208\n",
      "25\n",
      "Train on 4310 samples, validate on 1078 samples\n",
      "Epoch 1/1\n",
      "4310/4310 [==============================] - 3s 647us/step - loss: 0.2822 - val_loss: 1.2883\n",
      "26\n",
      "Train on 4310 samples, validate on 1078 samples\n",
      "Epoch 1/1\n",
      "4310/4310 [==============================] - 3s 704us/step - loss: 0.2934 - val_loss: nan\n",
      "27\n",
      "Train on 4310 samples, validate on 1078 samples\n",
      "Epoch 1/1\n",
      "4310/4310 [==============================] - 3s 718us/step - loss: 0.2657 - val_loss: 1.2167\n",
      "28\n",
      "Train on 4310 samples, validate on 1078 samples\n",
      "Epoch 1/1\n",
      "4310/4310 [==============================] - 3s 683us/step - loss: 0.2548 - val_loss: 1.0913\n",
      "29\n",
      "Train on 4310 samples, validate on 1078 samples\n",
      "Epoch 1/1\n",
      "4310/4310 [==============================] - 3s 667us/step - loss: 0.2021 - val_loss: 1.2855\n"
     ]
    }
   ],
   "source": [
    "M = 1.0001\n",
    "basic_model = conv_network()\n",
    "# Initilise loss\n",
    "decision_loss = lcbnn.loss_K(U)\n",
    "\n",
    "H_x = Input(shape=(num_classes,),name='H_x')\n",
    "y_true = Input(shape=(num_classes,),name='y_true')\n",
    "x = Input(shape=(x_train.shape[1:]),name='x')\n",
    "\n",
    "y_pred = basic_model(x)\n",
    "\n",
    "lc_model_cnv = Model([x,H_x],y_pred)\n",
    "lc_model_cnv.compile(loss = lcbnn.cal_loss(decision_loss,M,H_x),optimizer='adam')\n",
    "\n",
    "#Initiailisations:\n",
    "y_pred_samples = np.expand_dims(y_train,0)\n",
    "y_pred_samples_val = np.expand_dims(y_val,0)\n",
    "H_x = lcbnn.optimal_h(y_pred_samples,U) #np.random.randint(0,2,(np.shape(y_train)))\n",
    "H_x_val = lcbnn.optimal_h(y_pred_samples_val,U)\n",
    "\n",
    "history_lc = []\n",
    "for epoch in range(epochs):\n",
    "    print(epoch)\n",
    "    h_lc = lc_model_cnv.fit([x_train,H_x],[y_train],\n",
    "                 batch_size=batch_size,\n",
    "                 nb_epoch=1,\n",
    "                 verbose=1,\n",
    "                 validation_data=[[x_val,H_x_val],y_val],\n",
    "                 )\n",
    "    T = 10\n",
    "    yt_hat = np.array([lc_model_cnv.predict([x_train,H_x]) for _ in range(T)])\n",
    "    H_x = lcbnn.optimal_h(yt_hat,U)\n",
    "    history_lc.append(h_lc)"
   ]
  },
  {
   "cell_type": "markdown",
   "metadata": {},
   "source": [
    "**Results**"
   ]
  },
  {
   "cell_type": "code",
   "execution_count": 82,
   "metadata": {},
   "outputs": [
    {
     "name": "stdout",
     "output_type": "stream",
     "text": [
      "Standard:\n",
      "\n",
      "Accuracy on optimal decision:  0.7319277108433735\n",
      "Expected loss:  0.2235939759036144\n",
      "\n",
      "Weighted:\n",
      "\n",
      "Accuracy on optimal decision:  0.6701807228915663\n",
      "Expected loss:  0.2806722891566265\n",
      "\n",
      "Loss-cal:\n",
      "\n",
      "Accuracy on optimal decision:  0.6521084337349398\n",
      "Expected loss:  0.29196746987951805\n"
     ]
    }
   ],
   "source": [
    "T = 100\n",
    "loss_mat = U\n",
    "H_x_test = np.zeros_like(y_test)\n",
    "\n",
    "#######\n",
    "# STD #\n",
    "#######\n",
    "yt_hat_std = np.array([std_model_cnv.predict([X_test]) for _ in range(T)])\n",
    "MC_pred_std = np.mean(yt_hat_std, 0)\n",
    "H_x_test_std = lcbnn.optimal_h(yt_hat_std,loss_mat) \n",
    "acc_std = accuracy_score(np.argmax(y_test,1),np.argmax(H_x_test_std,1))\n",
    "loss_std = np.mean(lcbnn.loss_np(y_test,H_x_test_std,loss_mat))\n",
    "print('Standard:\\n')\n",
    "print('Accuracy on optimal decision: ', acc_std)\n",
    "print('Expected loss: ', loss_std)\n",
    "\n",
    "#######\n",
    "# WEI #\n",
    "#######\n",
    "yt_hat_we = np.array([we_model_cnv.predict([X_test]) for _ in range(T)])\n",
    "MC_pred_we = np.mean(yt_hat_we, 0)\n",
    "H_x_test_we = lcbnn.optimal_h(yt_hat_we,loss_mat) \n",
    "acc_we = accuracy_score(np.argmax(y_test,1),np.argmax(H_x_test_we,1))\n",
    "loss_we = np.mean(lcbnn.loss_np(y_test,H_x_test_we,loss_mat))\n",
    "\n",
    "print('\\nWeighted:\\n')\n",
    "print('Accuracy on optimal decision: ', acc_we)\n",
    "print('Expected loss: ', loss_we)\n",
    "\n",
    "#######\n",
    "# L-C #\n",
    "#######\n",
    "yt_hat_lc = np.array([lc_model_cnv.predict([X_test, H_x_test]) for _ in range(T)])\n",
    "MC_pred_lc = np.mean(yt_hat_lc, 0)\n",
    "H_x_test_lc = lcbnn.optimal_h(yt_hat_lc,loss_mat) \n",
    "acc_lc = accuracy_score(np.argmax(y_test,1),np.argmax(H_x_test_lc,1))\n",
    "loss_lc = np.mean(lcbnn.loss_np(y_test,H_x_test_lc,loss_mat))\n",
    "print('\\nLoss-cal:\\n')\n",
    "print('Accuracy on optimal decision: ', acc_lc)\n",
    "print('Expected loss: ', loss_lc)"
   ]
  },
  {
   "cell_type": "markdown",
   "metadata": {},
   "source": [
    "**Confussion matrices**"
   ]
  },
  {
   "cell_type": "code",
   "execution_count": 83,
   "metadata": {},
   "outputs": [
    {
     "name": "stdout",
     "output_type": "stream",
     "text": [
      "Normalized confusion matrix\n",
      "[[0.52 0.12 0.29 0.08]\n",
      " [0.   0.91 0.08 0.  ]\n",
      " [0.   0.26 0.74 0.01]\n",
      " [0.03 0.05 0.05 0.88]]\n",
      "Normalized confusion matrix\n",
      "[[0.4  0.15 0.35 0.1 ]\n",
      " [0.01 0.89 0.1  0.  ]\n",
      " [0.02 0.29 0.68 0.01]\n",
      " [0.03 0.12 0.   0.85]]\n",
      "Normalized confusion matrix\n",
      "[[0.33 0.13 0.4  0.14]\n",
      " [0.01 0.88 0.11 0.  ]\n",
      " [0.01 0.3  0.69 0.01]\n",
      " [0.03 0.   0.   0.97]]\n"
     ]
    },
    {
     "data": {
      "image/png": "[encoded data removed]",
      "text/plain": [
       "<Figure size 1080x1080 with 3 Axes>"
      ]
     },
     "metadata": {
      "needs_background": "light"
     },
     "output_type": "display_data"
    }
   ],
   "source": [
    "plt.rcParams['figure.figsize'] = (15, 15)\n",
    "\n",
    "H_std = np.argmax(H_x_test_std, axis=1)\n",
    "H_we = np.argmax(H_x_test_we, axis=1)\n",
    "H_lc = np.argmax(H_x_test_lc, axis=1)\n",
    "\n",
    "Y = np.argmax(y_test, axis=1)\n",
    "cnf_matrix_std = confusion_matrix(Y.reshape((y_test.shape[0],)).astype('float'),np.round(H_std.reshape((H_x_test.shape[0],))))\n",
    "np.set_printoptions(precision=2)\n",
    "cnf_matrix_we = confusion_matrix(Y.reshape((y_test.shape[0],)).astype('float'),np.round(H_we.reshape((H_x_test.shape[0],))))\n",
    "np.set_printoptions(precision=2)\n",
    "cnf_matrix_lc = confusion_matrix(Y.reshape((y_test.shape[0],)).astype('float'),np.round(H_lc.reshape((H_x_test.shape[0],))))\n",
    "np.set_printoptions(precision=2)\n",
    "\n",
    "plt.subplot(131)\n",
    "# Plot normalized confusion matrix\n",
    "plot_confusion_matrix(cnf_matrix_std, classes=classes, normalize=True,\n",
    "                      title='Std')\n",
    "\n",
    "plt.subplot(132)\n",
    "# Plot normalized confusion matrix\n",
    "plot_confusion_matrix(cnf_matrix_we, classes=classes, normalize=True,\n",
    "                      title='We')\n",
    "\n",
    "plt.subplot(133)\n",
    "# Plot normalized confusion matrix\n",
    "plot_confusion_matrix(cnf_matrix_lc, classes=classes, normalize=True,\n",
    "                      title='Lc')\n",
    "plt.show()"
   ]
  },
  {
   "cell_type": "markdown",
   "metadata": {},
   "source": [
    "**Analysis of performance of both models (convolutional and not convolutional) without using any bayesian approach**"
   ]
  },
  {
   "cell_type": "markdown",
   "metadata": {},
   "source": [
    "**1. Concolutional**"
   ]
  },
  {
   "cell_type": "code",
   "execution_count": 88,
   "metadata": {},
   "outputs": [
    {
     "data": {
      "text/plain": [
       "0.7228915662650602"
      ]
     },
     "execution_count": 88,
     "metadata": {},
     "output_type": "execute_result"
    }
   ],
   "source": [
    "yt_hat_std = np.array([std_model_cnv.predict([X_test]) for _ in range(T)])\n",
    "acc_std = accuracy_score(np.argmax(y_test,1),np.argmax(yt_hat_std[0],1))\n",
    "acc_std\n"
   ]
  },
  {
   "cell_type": "code",
   "execution_count": 107,
   "metadata": {},
   "outputs": [
    {
     "name": "stdout",
     "output_type": "stream",
     "text": [
      "Normalized confusion matrix\n",
      "[[0.52 0.12 0.29 0.08]\n",
      " [0.   0.92 0.08 0.  ]\n",
      " [0.01 0.28 0.71 0.  ]\n",
      " [0.03 0.1  0.07 0.8 ]]\n"
     ]
    },
    {
     "data": {
      "image/png": "[encoded data removed]",
      "text/plain": [
       "<Figure size 360x360 with 1 Axes>"
      ]
     },
     "metadata": {
      "needs_background": "light"
     },
     "output_type": "display_data"
    }
   ],
   "source": [
    "plt.rcParams['figure.figsize'] = (5, 5)\n",
    "Y = np.argmax(y_test, axis=1)\n",
    "cnf_matrix_std = confusion_matrix(Y.reshape((y_test.shape[0],)).astype('float'),np.round(np.argmax(yt_hat_std[0],1).reshape((H_x_test.shape[0],))))\n",
    "np.set_printoptions(precision=2)\n",
    "plot_confusion_matrix(cnf_matrix_std, classes=classes, normalize=True,\n",
    "                      title='Std convolutional')\n"
   ]
  },
  {
   "cell_type": "markdown",
   "metadata": {},
   "source": [
    "**2. Non-convolutional**"
   ]
  },
  {
   "cell_type": "code",
   "execution_count": 98,
   "metadata": {},
   "outputs": [
    {
     "data": {
      "text/plain": [
       "0.641566265060241"
      ]
     },
     "execution_count": 98,
     "metadata": {},
     "output_type": "execute_result"
    }
   ],
   "source": [
    "yt_hat_std_nc = np.array([std_model.predict([X_test_nc]) for _ in range(T)])\n",
    "acc_std_nc = accuracy_score(np.argmax(y_test,1),np.argmax(yt_hat_std_nc[0],1))\n",
    "acc_std_nc"
   ]
  },
  {
   "cell_type": "code",
   "execution_count": 101,
   "metadata": {},
   "outputs": [
    {
     "data": {
      "text/plain": [
       "(100, 664, 4)"
      ]
     },
     "execution_count": 101,
     "metadata": {},
     "output_type": "execute_result"
    }
   ],
   "source": [
    "yt_hat_std_nc.shape"
   ]
  },
  {
   "cell_type": "code",
   "execution_count": 103,
   "metadata": {},
   "outputs": [
    {
     "data": {
      "text/plain": [
       "(100, 664, 4)"
      ]
     },
     "execution_count": 103,
     "metadata": {},
     "output_type": "execute_result"
    }
   ],
   "source": [
    "yt_hat_std.shape"
   ]
  },
  {
   "cell_type": "code",
   "execution_count": 106,
   "metadata": {},
   "outputs": [
    {
     "name": "stdout",
     "output_type": "stream",
     "text": [
      "Normalized confusion matrix\n",
      "[[0.47 0.26 0.18 0.09]\n",
      " [0.02 0.94 0.04 0.  ]\n",
      " [0.09 0.41 0.49 0.01]\n",
      " [0.03 0.57 0.   0.4 ]]\n"
     ]
    },
    {
     "data": {
      "image/png": "[encoded data removed]",
      "text/plain": [
       "<Figure size 360x360 with 1 Axes>"
      ]
     },
     "metadata": {
      "needs_background": "light"
     },
     "output_type": "display_data"
    }
   ],
   "source": [
    "plt.rcParams['figure.figsize'] = (5, 5)\n",
    "Y = np.argmax(y_test, axis=1)\n",
    "cnf_matrix_std_nc = confusion_matrix(Y.reshape((y_test.shape[0],)).astype('float'),np.round(np.argmax(yt_hat_std_nc[0],1).reshape((H_x_test.shape[0],))))\n",
    "np.set_printoptions(precision=2)\n",
    "plot_confusion_matrix(cnf_matrix_std_nc, classes=classes, normalize=True,\n",
    "                      title='Std non convolutional')\n"
   ]
  }
 ],
 "metadata": {
  "kernelspec": {
   "display_name": "Kernel-env",
   "language": "python",
   "name": "python3"
  },
  "language_info": {
   "codemirror_mode": {
    "name": "ipython",
    "version": 3
   },
   "file_extension": ".py",
   "mimetype": "text/x-python",
   "name": "python",
   "nbconvert_exporter": "python",
   "pygments_lexer": "ipython3",
   "version": "3.6.15"
  }
 },
 "nbformat": 4,
 "nbformat_minor": 2
}
