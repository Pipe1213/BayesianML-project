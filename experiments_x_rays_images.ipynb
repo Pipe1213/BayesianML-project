{
 "cells": [
  {
   "cell_type": "markdown",
   "metadata": {},
   "source": [
    "**Pneumonia type classification using Loss Calibration for BNN approach**\n",
    "\n",
    "We are going to focus on three classes of images:\n",
    "\n",
    "1. Normal: not pneumonia\n",
    "2. Bacterial Pneumonia\n",
    "3. Viral Pneumonia: not covid-19\n",
    "4. Covid-19\n",
    "\n",
    "We want to maximize the capacity of the model to predict correctly the covid-19 cases from images and avoid false negatives mostly for this class. Then we are going to proposse a utility function based on the paper idea in order to obtain good results for this task."
   ]
  },
  {
   "cell_type": "code",
   "execution_count": 108,
   "metadata": {},
   "outputs": [],
   "source": [
    "import os\n",
    "import cv2\n",
    "import numpy as np\n",
    "from sklearn.model_selection import train_test_split\n",
    "import matplotlib.pyplot as plt\n",
    "\n",
    "import keras\n",
    "from keras import backend as K\n",
    "from keras.models import Sequential, Model\n",
    "from keras.metrics import binary_accuracy\n",
    "from keras.layers import Input\n",
    "from keras.layers.core import Dense, Dropout, Activation, Layer, Lambda\n",
    "from keras.layers.convolutional import Convolution2D, MaxPooling2D\n",
    "from keras.regularizers import l2\n",
    "from keras.optimizers import RMSprop, Adadelta, adam\n",
    "from keras.utils import to_categorical\n",
    "import random\n",
    "\n",
    "\n",
    "import sys\n",
    "sys.path.insert(0, './code/')\n",
    "sys.path.insert(0, './data/')\n",
    "import lcbnn_multiclass as lcbnn\n",
    "from utils import plot_confusion_matrix\n",
    "import tensorflow as tf\n",
    "import numpy as np\n",
    "import random\n",
    "from sklearn.metrics import accuracy_score\n",
    "from sklearn.metrics import confusion_matrix\n",
    "\n",
    "import matplotlib.pyplot as plt\n",
    "import matplotlib.cm as cm\n",
    "\n",
    "\n",
    "\n",
    "np.random.seed(seed=0)\n",
    "random.seed(0)"
   ]
  },
  {
   "cell_type": "code",
   "execution_count": 2,
   "metadata": {},
   "outputs": [],
   "source": [
    "#paths\n",
    "data = './data/'\n",
    "covid_path = data + './data/COVID-19/' \n",
    "x_ray_path = data + './data/chest_xray/'"
   ]
  },
  {
   "cell_type": "code",
   "execution_count": 146,
   "metadata": {},
   "outputs": [],
   "source": [
    "IMG_SIZE = 32"
   ]
  },
  {
   "cell_type": "code",
   "execution_count": 147,
   "metadata": {},
   "outputs": [],
   "source": [
    "def read_images(images_paths):\n",
    "    images = []\n",
    "    for image_path in images_paths:\n",
    "        image = cv2.imread(image_path)\n",
    "        # resize image\n",
    "        image = cv2.resize(image,(IMG_SIZE,IMG_SIZE))\n",
    "        # transform to grayscale\n",
    "        # image = cv2.cvtColor(image,cv2.COLOR_RGB2GRAY)\n",
    "        images.append(image)\n",
    "    # reshape images to 1D array\n",
    "    # images = np.array(images).reshape(-1,IMG_SIZE*IMG_SIZE)\n",
    "    return np.array(images)"
   ]
  },
  {
   "cell_type": "code",
   "execution_count": 148,
   "metadata": {},
   "outputs": [],
   "source": [
    "X_train = np.array([])\n",
    "y_train = np.array([])\n",
    "X_test = np.array([])\n",
    "y_test = np.array([])\n",
    "X_val = np.array([])\n",
    "y_val = np.array([])"
   ]
  },
  {
   "cell_type": "code",
   "execution_count": 149,
   "metadata": {},
   "outputs": [],
   "source": [
    "# read covid images\n",
    "covid_images_paths = [covid_path + file_name for file_name in os.listdir(covid_path)]\n",
    "covid_images = read_images(covid_images_paths)"
   ]
  },
  {
   "cell_type": "code",
   "execution_count": 150,
   "metadata": {},
   "outputs": [
    {
     "data": {
      "text/plain": [
       "(196, 32, 32, 3)"
      ]
     },
     "execution_count": 150,
     "metadata": {},
     "output_type": "execute_result"
    }
   ],
   "source": [
    "covid_images.shape"
   ]
  },
  {
   "cell_type": "code",
   "execution_count": 151,
   "metadata": {},
   "outputs": [
    {
     "data": {
      "text/plain": [
       "(156, 40)"
      ]
     },
     "execution_count": 151,
     "metadata": {},
     "output_type": "execute_result"
    }
   ],
   "source": [
    "covid_train, covid_test = train_test_split(covid_images, test_size=0.2, random_state=42)\n",
    "len(covid_train), len(covid_test)"
   ]
  },
  {
   "cell_type": "code",
   "execution_count": 152,
   "metadata": {},
   "outputs": [
    {
     "data": {
      "text/plain": [
       "(40, 32, 32, 3)"
      ]
     },
     "execution_count": 152,
     "metadata": {},
     "output_type": "execute_result"
    }
   ],
   "source": [
    "covid_test.shape"
   ]
  },
  {
   "cell_type": "code",
   "execution_count": 153,
   "metadata": {},
   "outputs": [],
   "source": [
    "# add covid images to train and test\n",
    "X_train = covid_train\n",
    "y_train = np.ones(len(covid_train))*3\n",
    "X_test = covid_test\n",
    "y_test = np.ones(len(covid_test))*3"
   ]
  },
  {
   "cell_type": "code",
   "execution_count": 154,
   "metadata": {},
   "outputs": [
    {
     "data": {
      "text/plain": [
       "((156, 32, 32, 3), (156,), (40, 32, 32, 3), (40,))"
      ]
     },
     "execution_count": 154,
     "metadata": {},
     "output_type": "execute_result"
    }
   ],
   "source": [
    "X_train.shape, y_train.shape, X_test.shape, y_test.shape"
   ]
  },
  {
   "cell_type": "code",
   "execution_count": 155,
   "metadata": {},
   "outputs": [],
   "source": [
    "# read normal images\n",
    "normal_train_paths = [x_ray_path + 'train/NORMAL/' + file_name for file_name in os.listdir(x_ray_path + 'train/NORMAL/')]\n",
    "normal_train = read_images(normal_train_paths)\n",
    "normal_test_paths = [x_ray_path + 'test/NORMAL/' + file_name for file_name in os.listdir(x_ray_path + 'test/NORMAL/')]\n",
    "normal_test = read_images(normal_test_paths)"
   ]
  },
  {
   "cell_type": "code",
   "execution_count": 156,
   "metadata": {},
   "outputs": [],
   "source": [
    "# add normal images to train and test\n",
    "X_train = np.concatenate((X_train, normal_train))\n",
    "y_train = np.concatenate((y_train, np.zeros(len(normal_train))))\n",
    "X_test = np.concatenate((X_test, normal_test))\n",
    "y_test = np.concatenate((y_test, np.zeros(len(normal_test))))"
   ]
  },
  {
   "cell_type": "code",
   "execution_count": 157,
   "metadata": {},
   "outputs": [
    {
     "data": {
      "text/plain": [
       "((1505, 32, 32, 3), (1505,), (274, 32, 32, 3), (274,))"
      ]
     },
     "execution_count": 157,
     "metadata": {},
     "output_type": "execute_result"
    }
   ],
   "source": [
    "X_train.shape, y_train.shape, X_test.shape, y_test.shape"
   ]
  },
  {
   "cell_type": "code",
   "execution_count": 158,
   "metadata": {},
   "outputs": [],
   "source": [
    "# read pneumonia images\n",
    "pneumonia_train_paths = [x_ray_path + 'train/PNEUMONIA/' + file_name for file_name in os.listdir(x_ray_path + 'train/PNEUMONIA/')]\n",
    "pneumonia_train = read_images(pneumonia_train_paths)\n",
    "pneumonia_test_paths = [x_ray_path + 'test/PNEUMONIA/' + file_name for file_name in os.listdir(x_ray_path + 'test/PNEUMONIA/')]\n",
    "pneumonia_test = read_images(pneumonia_test_paths)"
   ]
  },
  {
   "cell_type": "code",
   "execution_count": 159,
   "metadata": {},
   "outputs": [],
   "source": [
    "# get labels for bacterial and viral pneumonia\n",
    "pneumonia_train_labels = [1 if 'bacteria' in file_name else 2 for file_name in pneumonia_train_paths]\n",
    "pneumonia_test_labels = [1 if 'bacteria' in file_name else 2 for file_name in pneumonia_test_paths]"
   ]
  },
  {
   "cell_type": "code",
   "execution_count": 160,
   "metadata": {},
   "outputs": [],
   "source": [
    "# add pneumonia images to train and test\n",
    "X_train = np.concatenate((X_train, pneumonia_train))\n",
    "y_train = np.concatenate((y_train, pneumonia_train_labels))\n",
    "X_test = np.concatenate((X_test, pneumonia_test))\n",
    "y_test = np.concatenate((y_test, pneumonia_test_labels))"
   ]
  },
  {
   "cell_type": "code",
   "execution_count": 161,
   "metadata": {},
   "outputs": [
    {
     "data": {
      "text/plain": [
       "((5388, 32, 32, 3), (5388,), (664, 32, 32, 3), (664,))"
      ]
     },
     "execution_count": 161,
     "metadata": {},
     "output_type": "execute_result"
    }
   ],
   "source": [
    "X_train.shape, y_train.shape, X_test.shape, y_test.shape"
   ]
  },
  {
   "cell_type": "code",
   "execution_count": 162,
   "metadata": {},
   "outputs": [],
   "source": [
    "# shuffle data\n",
    "np.random.seed(42)\n",
    "permutation = np.random.permutation(X_train.shape[0])\n",
    "X_train = X_train[permutation]\n",
    "y_train = y_train[permutation]\n",
    "\n",
    "permutation = np.random.permutation(X_test.shape[0])\n",
    "X_test = X_test[permutation]\n",
    "y_test = y_test[permutation]"
   ]
  },
  {
   "cell_type": "code",
   "execution_count": 163,
   "metadata": {},
   "outputs": [
    {
     "name": "stderr",
     "output_type": "stream",
     "text": [
      "c:\\Users\\felip\\miniconda3\\envs\\vits-pip\\lib\\site-packages\\ipykernel_launcher.py:16: MatplotlibDeprecationWarning: Passing the minor parameter of set_ticks() positionally is deprecated since Matplotlib 3.2; the parameter will become keyword-only two minor releases later.\n",
      "  app.launch_new_instance()\n"
     ]
    },
    {
     "data": {
      "image/png": "[encoded data removed]",
      "text/plain": [
       "<Figure size 1080x1080 with 1 Axes>"
      ]
     },
     "metadata": {
      "needs_background": "light"
     },
     "output_type": "display_data"
    }
   ],
   "source": [
    "# plot the distribution of the classes on train and test\n",
    "x = np.arange(4)  # the label locations\n",
    "width = 0.25  # the width of the bars\n",
    "multiplier = 0\n",
    "\n",
    "fig, ax = plt.subplots()\n",
    "\n",
    "for l in ['train', 'test']:\n",
    "    offset = width * multiplier\n",
    "    v = [np.sum(y_train == i) if l == 'train' else np.sum(y_test == i) for i in range(4)]\n",
    "    rects = ax.bar(x + offset, v, width, label=l)\n",
    "    multiplier += 1\n",
    "\n",
    "ax.set_ylabel('number of images')\n",
    "ax.set_title('Number of images per class')\n",
    "ax.set_xticks(x + width, ['Normal', 'Bacterial', 'Viral', 'COVID-19'])\n",
    "ax.legend(loc='upper right')\n",
    "\n",
    "plt.xticks(rotation=90)\n",
    "\n",
    "plt.show()\n"
   ]
  },
  {
   "cell_type": "code",
   "execution_count": 164,
   "metadata": {},
   "outputs": [
    {
     "data": {
      "image/png": "[encoded data removed]",
      "text/plain": [
       "<Figure size 720x720 with 16 Axes>"
      ]
     },
     "metadata": {
      "needs_background": "light"
     },
     "output_type": "display_data"
    }
   ],
   "source": [
    "# visualize some images for each class\n",
    "classes = ['Normal', 'Bacterial', 'Viral', 'COVID-19']\n",
    "# classes = ['Normal', 'Bacterial', 'Viral', 'COVID-19']\n",
    "\n",
    "fig, ax = plt.subplots(4, 4, figsize=(10, 10))\n",
    "for i in range(4):\n",
    "    for j in range(4):\n",
    "        ax[i, j].imshow(X_train[y_train == i][j])\n",
    "        ax[i, j].set_title(classes[i])\n",
    "        ax[i, j].axis('off')\n",
    "plt.show()"
   ]
  },
  {
   "cell_type": "code",
   "execution_count": 198,
   "metadata": {},
   "outputs": [
    {
     "name": "stdout",
     "output_type": "stream",
     "text": [
      "[[1.e-04 8.e-01 1.e+00 9.e-01]\n",
      " [9.e-01 1.e-04 1.e+00 1.e+00]\n",
      " [8.e-01 7.e-01 1.e-04 6.e-01]\n",
      " [5.e-01 4.e-01 3.e-01 1.e-04]]\n"
     ]
    }
   ],
   "source": [
    "# define the utility function for the problem\n",
    "U = 1*np.eye(4)\n",
    "U[0,1] = 0.2 # pred = normal, true = bacterial\n",
    "U[0,2] = 0 # pred = normal, true = bacterial\n",
    "U[0,3] = 0.1 # pred = normal, true = covid\n",
    "U[1,0] = 0.1 # pred = bacterial, true = normal\n",
    "U[1,2] = 0 # pred = bacterial, true = viral\n",
    "U[1,3] = 0 # pred = bacterial, true = covid\n",
    "U[2,0] = 0.2 # pred = viral, true = normal\n",
    "U[2,1] = 0.3 # pred = viral, true = bacterial\n",
    "U[2,3] = 0.4 # pred = viral, true = covid\n",
    "U[3,0] = 0.5 # pred = covid, true = normal\n",
    "U[3,1] = 0.6 # pred = covid, true = bacterial\n",
    "U[3,2] = 0.7 # pred = covid, true = viral\n",
    "# U = 2.1 - U\n",
    "U = 1.0001 - U\n",
    "print(U)\n"
   ]
  },
  {
   "cell_type": "code",
   "execution_count": 166,
   "metadata": {},
   "outputs": [
    {
     "name": "stdout",
     "output_type": "stream",
     "text": [
      "Training data classes count: {0.0: 1079, 1.0: 2030, 2.0: 1076, 3.0: 125}\n",
      "Training data classes count: {0.0: 270, 1.0: 508, 2.0: 269, 3.0: 31}\n"
     ]
    }
   ],
   "source": [
    "num_classes = 4\n",
    "x_train, x_val, y_train, y_val = train_test_split(X_train, y_train, test_size=0.2, random_state=42, stratify=y_train)\n",
    "unique, counts = np.unique(y_train, return_counts=True)\n",
    "print(f\"Training data classes count: {dict(zip(unique,counts))}\")\n",
    "unique, counts = np.unique(y_val, return_counts=True)\n",
    "print(f\"Training data classes count: {dict(zip(unique,counts))}\")"
   ]
  },
  {
   "cell_type": "code",
   "execution_count": 167,
   "metadata": {},
   "outputs": [],
   "source": [
    "y_train = to_categorical(y_train, num_classes)\n",
    "y_test = to_categorical(y_test, num_classes)\n",
    "y_val = to_categorical(y_val, num_classes)"
   ]
  },
  {
   "cell_type": "code",
   "execution_count": 178,
   "metadata": {},
   "outputs": [],
   "source": [
    "x_train = x_train/255\n",
    "x_val = x_val/255\n",
    "X_test = X_test/255"
   ]
  },
  {
   "cell_type": "code",
   "execution_count": 210,
   "metadata": {},
   "outputs": [
    {
     "name": "stdout",
     "output_type": "stream",
     "text": [
      "Help on built-in function flatten:\n",
      "\n",
      "flatten(...) method of numpy.ndarray instance\n",
      "    a.flatten(order='C')\n",
      "    \n",
      "    Return a copy of the array collapsed into one dimension.\n",
      "    \n",
      "    Parameters\n",
      "    ----------\n",
      "    order : {'C', 'F', 'A', 'K'}, optional\n",
      "        'C' means to flatten in row-major (C-style) order.\n",
      "        'F' means to flatten in column-major (Fortran-\n",
      "        style) order. 'A' means to flatten in column-major\n",
      "        order if `a` is Fortran *contiguous* in memory,\n",
      "        row-major order otherwise. 'K' means to flatten\n",
      "        `a` in the order the elements occur in memory.\n",
      "        The default is 'C'.\n",
      "    \n",
      "    Returns\n",
      "    -------\n",
      "    y : ndarray\n",
      "        A copy of the input array, flattened to one dimension.\n",
      "    \n",
      "    See Also\n",
      "    --------\n",
      "    ravel : Return a flattened array.\n",
      "    flat : A 1-D flat iterator over the array.\n",
      "    \n",
      "    Examples\n",
      "    --------\n",
      "    >>> a = np.array([[1,2], [3,4]])\n",
      "    >>> a.flatten()\n",
      "    array([1, 2, 3, 4])\n",
      "    >>> a.flatten('F')\n",
      "    array([1, 3, 2, 4])\n",
      "\n"
     ]
    }
   ],
   "source": [
    "help(x_train.flatten)"
   ]
  },
  {
   "cell_type": "code",
   "execution_count": 217,
   "metadata": {},
   "outputs": [],
   "source": [
    "x_train = x_train.reshape(-1,IMG_SIZE*IMG_SIZE*3)\n",
    "x_val = x_val.reshape(-1,IMG_SIZE*IMG_SIZE*3)\n",
    "X_test = X_test.reshape(-1, IMG_SIZE*IMG_SIZE*3)"
   ]
  },
  {
   "cell_type": "code",
   "execution_count": 218,
   "metadata": {},
   "outputs": [],
   "source": [
    "Early_Stop_acc = keras.callbacks.EarlyStopping(monitor='val_acc', min_delta=0, patience=20, verbose=1, mode='auto')\n",
    "# units\n",
    "units = 80\n",
    "\n",
    "dropout=0.2\n",
    "# Regularise\n",
    "tau = 1.0\n",
    "lengthscale = .01\n",
    "reg = lengthscale**2 * (1 - dropout) / (2. * len(x_train) * tau)\n",
    "\n",
    "def network():\n",
    "    model = Sequential()\n",
    "    model.add(Dense(units, activation='relu', input_shape=x_train.shape[1:],W_regularizer=l2(reg)))\n",
    "    model.add(Lambda(lambda x: K.dropout(x,level=dropout)))\n",
    "    model.add(Dense(units, activation='relu',W_regularizer=l2(reg)))\n",
    "    model.add(Lambda(lambda x: K.dropout(x,level=dropout)))\n",
    "    model.add(Dense(units, activation='relu',W_regularizer=l2(reg)))\n",
    "    model.add(Lambda(lambda x: K.dropout(x,level=dropout)))\n",
    "    model.add(Dense(num_classes, activation='softmax',W_regularizer=l2(reg)))\n",
    "    # model.add(keras.layers.Conv2D(32, (3,3), activation='relu', input_shape = (32,32,3)))\n",
    "    # model.add(MaxPooling2D())\n",
    "    # model.add(keras.layers.Conv2D(64, (3,3), activation='relu'))\n",
    "    # model.add(MaxPooling2D())\n",
    "    # model.add(keras.layers.Conv2D(64, (3,3), activation='relu'))\n",
    "    # model.add(keras.layers.Flatten())\n",
    "    # model.add(Dense(128, activation='relu', W_regularizer=l2(reg)))\n",
    "    # model.add(Lambda(lambda x: K.dropout(x,level=dropout)))\n",
    "    # model.add(Dense(num_classes, activation='softmax',W_regularizer=l2(reg)))\n",
    "    return model"
   ]
  },
  {
   "cell_type": "code",
   "execution_count": null,
   "metadata": {},
   "outputs": [],
   "source": []
  },
  {
   "cell_type": "markdown",
   "metadata": {},
   "source": [
    "STD"
   ]
  },
  {
   "cell_type": "code",
   "execution_count": 219,
   "metadata": {},
   "outputs": [
    {
     "name": "stderr",
     "output_type": "stream",
     "text": [
      "c:\\Users\\felip\\miniconda3\\envs\\vits-pip\\lib\\site-packages\\ipykernel_launcher.py:13: UserWarning: Update your `Dense` call to the Keras 2 API: `Dense(80, activation=\"relu\", input_shape=(3072,), kernel_regularizer=<keras.reg...)`\n",
      "  del sys.path[0]\n",
      "c:\\Users\\felip\\miniconda3\\envs\\vits-pip\\lib\\site-packages\\ipykernel_launcher.py:15: UserWarning: Update your `Dense` call to the Keras 2 API: `Dense(80, activation=\"relu\", kernel_regularizer=<keras.reg...)`\n",
      "  from ipykernel import kernelapp as app\n",
      "c:\\Users\\felip\\miniconda3\\envs\\vits-pip\\lib\\site-packages\\ipykernel_launcher.py:17: UserWarning: Update your `Dense` call to the Keras 2 API: `Dense(80, activation=\"relu\", kernel_regularizer=<keras.reg...)`\n",
      "c:\\Users\\felip\\miniconda3\\envs\\vits-pip\\lib\\site-packages\\ipykernel_launcher.py:19: UserWarning: Update your `Dense` call to the Keras 2 API: `Dense(4, activation=\"softmax\", kernel_regularizer=<keras.reg...)`\n"
     ]
    },
    {
     "name": "stdout",
     "output_type": "stream",
     "text": [
      "Train on 4310 samples, validate on 1078 samples\n",
      "Epoch 1/100\n",
      "4310/4310 [==============================] - 2s 535us/step - loss: 1.0205 - acc: 0.5515 - val_loss: 0.8808 - val_acc: 0.6067\n",
      "Epoch 2/100\n",
      "4310/4310 [==============================] - 1s 299us/step - loss: 0.8567 - acc: 0.6311 - val_loss: 0.8735 - val_acc: 0.6243\n",
      "Epoch 3/100\n",
      "4310/4310 [==============================] - 1s 304us/step - loss: 0.8358 - acc: 0.6413 - val_loss: 0.8061 - val_acc: 0.6419\n",
      "Epoch 4/100\n",
      "4310/4310 [==============================] - 1s 297us/step - loss: 0.8451 - acc: 0.6318 - val_loss: 0.8372 - val_acc: 0.6234\n",
      "Epoch 5/100\n",
      "4310/4310 [==============================] - 1s 287us/step - loss: 0.8081 - acc: 0.6457 - val_loss: 0.8760 - val_acc: 0.6160\n",
      "Epoch 6/100\n",
      "4310/4310 [==============================] - 1s 288us/step - loss: 0.8085 - acc: 0.6492 - val_loss: 0.8301 - val_acc: 0.6373\n",
      "Epoch 7/100\n",
      "4310/4310 [==============================] - 1s 300us/step - loss: 0.7862 - acc: 0.6538 - val_loss: 0.8251 - val_acc: 0.6391\n",
      "Epoch 8/100\n",
      "4310/4310 [==============================] - 1s 306us/step - loss: 0.7931 - acc: 0.6571 - val_loss: 0.8044 - val_acc: 0.6419\n",
      "Epoch 9/100\n",
      "4310/4310 [==============================] - 1s 309us/step - loss: 0.7926 - acc: 0.6536 - val_loss: 0.7873 - val_acc: 0.6679\n",
      "Epoch 10/100\n",
      "4310/4310 [==============================] - 1s 304us/step - loss: 0.7807 - acc: 0.6487 - val_loss: 0.8363 - val_acc: 0.6345\n",
      "Epoch 11/100\n",
      "4310/4310 [==============================] - 1s 300us/step - loss: 0.7767 - acc: 0.6543 - val_loss: 0.8188 - val_acc: 0.6568\n",
      "Epoch 12/100\n",
      "4310/4310 [==============================] - 1s 315us/step - loss: 0.7935 - acc: 0.6582 - val_loss: 0.7643 - val_acc: 0.6586\n",
      "Epoch 13/100\n",
      "4310/4310 [==============================] - 1s 302us/step - loss: 0.7603 - acc: 0.6691 - val_loss: 0.7825 - val_acc: 0.6438\n",
      "Epoch 14/100\n",
      "4310/4310 [==============================] - 1s 306us/step - loss: 0.7735 - acc: 0.6543 - val_loss: 0.7708 - val_acc: 0.6605\n",
      "Epoch 15/100\n",
      "4310/4310 [==============================] - 1s 310us/step - loss: 0.7552 - acc: 0.6633 - val_loss: 0.8186 - val_acc: 0.6391\n",
      "Epoch 16/100\n",
      "4310/4310 [==============================] - 1s 296us/step - loss: 0.7468 - acc: 0.6703 - val_loss: 0.8471 - val_acc: 0.6401\n",
      "Epoch 17/100\n",
      "4310/4310 [==============================] - 1s 315us/step - loss: 0.7462 - acc: 0.6710 - val_loss: 0.7889 - val_acc: 0.6354\n",
      "Epoch 18/100\n",
      "4310/4310 [==============================] - 1s 316us/step - loss: 0.7523 - acc: 0.6680 - val_loss: 0.7693 - val_acc: 0.6596\n",
      "Epoch 19/100\n",
      "4310/4310 [==============================] - 1s 296us/step - loss: 0.7394 - acc: 0.6680 - val_loss: 0.7912 - val_acc: 0.6503\n",
      "Epoch 20/100\n",
      "4310/4310 [==============================] - 1s 282us/step - loss: 0.7480 - acc: 0.6675 - val_loss: 0.7913 - val_acc: 0.6521\n",
      "Epoch 21/100\n",
      "4310/4310 [==============================] - 1s 298us/step - loss: 0.7363 - acc: 0.6684 - val_loss: 0.7910 - val_acc: 0.6410\n",
      "Epoch 22/100\n",
      "4310/4310 [==============================] - 1s 296us/step - loss: 0.7505 - acc: 0.6606 - val_loss: 0.7519 - val_acc: 0.6540\n",
      "Epoch 23/100\n",
      "4310/4310 [==============================] - 1s 286us/step - loss: 0.7485 - acc: 0.6578 - val_loss: 0.7717 - val_acc: 0.6484\n",
      "Epoch 24/100\n",
      "4310/4310 [==============================] - 1s 281us/step - loss: 0.7418 - acc: 0.6550 - val_loss: 0.7649 - val_acc: 0.6512\n",
      "Epoch 25/100\n",
      "4310/4310 [==============================] - 1s 287us/step - loss: 0.7190 - acc: 0.6731 - val_loss: 0.7789 - val_acc: 0.6549\n",
      "Epoch 26/100\n",
      "4310/4310 [==============================] - 1s 298us/step - loss: 0.7275 - acc: 0.6722 - val_loss: 0.7899 - val_acc: 0.6475\n",
      "Epoch 27/100\n",
      "4310/4310 [==============================] - 1s 283us/step - loss: 0.7328 - acc: 0.6682 - val_loss: 0.7679 - val_acc: 0.6540\n",
      "Epoch 28/100\n",
      "4310/4310 [==============================] - 1s 284us/step - loss: 0.7194 - acc: 0.6773 - val_loss: 0.8363 - val_acc: 0.6104\n",
      "Epoch 29/100\n",
      "4310/4310 [==============================] - 1s 301us/step - loss: 0.7234 - acc: 0.6671 - val_loss: 0.7679 - val_acc: 0.6596\n",
      "Epoch 30/100\n",
      "4310/4310 [==============================] - 1s 294us/step - loss: 0.7308 - acc: 0.6777 - val_loss: 0.8378 - val_acc: 0.6317\n",
      "Epoch 31/100\n",
      "4310/4310 [==============================] - 1s 292us/step - loss: 0.7096 - acc: 0.6800 - val_loss: 0.7928 - val_acc: 0.6456\n",
      "Epoch 32/100\n",
      "4310/4310 [==============================] - 1s 294us/step - loss: 0.7126 - acc: 0.6875 - val_loss: 0.7665 - val_acc: 0.6419\n",
      "Epoch 33/100\n",
      "4310/4310 [==============================] - 1s 295us/step - loss: 0.7042 - acc: 0.6884 - val_loss: 0.7538 - val_acc: 0.6596\n",
      "Epoch 34/100\n",
      "4310/4310 [==============================] - 1s 309us/step - loss: 0.7040 - acc: 0.6847 - val_loss: 0.7487 - val_acc: 0.6725\n",
      "Epoch 35/100\n",
      "4310/4310 [==============================] - 1s 291us/step - loss: 0.7038 - acc: 0.6944 - val_loss: 0.7454 - val_acc: 0.6744\n",
      "Epoch 36/100\n",
      "4310/4310 [==============================] - 1s 280us/step - loss: 0.6939 - acc: 0.6949 - val_loss: 0.7421 - val_acc: 0.6614\n",
      "Epoch 37/100\n",
      "4310/4310 [==============================] - 1s 271us/step - loss: 0.6757 - acc: 0.7090 - val_loss: 0.7591 - val_acc: 0.6763\n",
      "Epoch 38/100\n",
      "4310/4310 [==============================] - 1s 286us/step - loss: 0.7037 - acc: 0.6923 - val_loss: 0.7373 - val_acc: 0.6725\n",
      "Epoch 39/100\n",
      "4310/4310 [==============================] - 1s 282us/step - loss: 0.7004 - acc: 0.6891 - val_loss: 0.7769 - val_acc: 0.6596\n",
      "Epoch 40/100\n",
      "4310/4310 [==============================] - 1s 329us/step - loss: 0.7034 - acc: 0.6886 - val_loss: 0.7424 - val_acc: 0.6790\n",
      "Epoch 41/100\n",
      "4310/4310 [==============================] - 1s 308us/step - loss: 0.7071 - acc: 0.6914 - val_loss: 0.7431 - val_acc: 0.6623\n",
      "Epoch 42/100\n",
      "4310/4310 [==============================] - 1s 305us/step - loss: 0.7186 - acc: 0.6842 - val_loss: 0.7653 - val_acc: 0.6605\n",
      "Epoch 43/100\n",
      "4310/4310 [==============================] - 1s 298us/step - loss: 0.6946 - acc: 0.6944 - val_loss: 0.7418 - val_acc: 0.6809\n",
      "Epoch 44/100\n",
      "4310/4310 [==============================] - 1s 293us/step - loss: 0.6987 - acc: 0.6937 - val_loss: 0.7607 - val_acc: 0.6577\n",
      "Epoch 45/100\n",
      "4310/4310 [==============================] - 1s 289us/step - loss: 0.6932 - acc: 0.6865 - val_loss: 0.8177 - val_acc: 0.6577\n",
      "Epoch 46/100\n",
      "4310/4310 [==============================] - 1s 282us/step - loss: 0.6961 - acc: 0.6889 - val_loss: 0.7573 - val_acc: 0.6586\n",
      "Epoch 47/100\n",
      "4310/4310 [==============================] - 1s 295us/step - loss: 0.6957 - acc: 0.6912 - val_loss: 0.7649 - val_acc: 0.6698\n",
      "Epoch 48/100\n",
      "4310/4310 [==============================] - 1s 289us/step - loss: 0.6799 - acc: 0.6954 - val_loss: 0.7585 - val_acc: 0.6512\n",
      "Epoch 49/100\n",
      "4310/4310 [==============================] - 1s 296us/step - loss: 0.6996 - acc: 0.6856 - val_loss: 0.7463 - val_acc: 0.6568\n",
      "Epoch 50/100\n",
      "4310/4310 [==============================] - 1s 311us/step - loss: 0.6986 - acc: 0.6954 - val_loss: 0.8241 - val_acc: 0.6299\n",
      "Epoch 51/100\n",
      "4310/4310 [==============================] - 1s 303us/step - loss: 0.7006 - acc: 0.6905 - val_loss: 0.7215 - val_acc: 0.6837\n",
      "Epoch 52/100\n",
      "4310/4310 [==============================] - 1s 302us/step - loss: 0.6869 - acc: 0.7037 - val_loss: 0.7576 - val_acc: 0.6540\n",
      "Epoch 53/100\n",
      "4310/4310 [==============================] - 1s 288us/step - loss: 0.6714 - acc: 0.7016 - val_loss: 0.7202 - val_acc: 0.6753\n",
      "Epoch 54/100\n",
      "4310/4310 [==============================] - 1s 286us/step - loss: 0.6930 - acc: 0.6979 - val_loss: 0.7642 - val_acc: 0.6623\n",
      "Epoch 55/100\n",
      "4310/4310 [==============================] - 1s 313us/step - loss: 0.6859 - acc: 0.7007 - val_loss: 0.7388 - val_acc: 0.6753\n",
      "Epoch 56/100\n",
      "4310/4310 [==============================] - 1s 290us/step - loss: 0.6767 - acc: 0.7056 - val_loss: 0.7773 - val_acc: 0.6568\n",
      "Epoch 57/100\n",
      "4310/4310 [==============================] - 1s 306us/step - loss: 0.6628 - acc: 0.7049 - val_loss: 0.7538 - val_acc: 0.6679\n",
      "Epoch 58/100\n",
      "4310/4310 [==============================] - 1s 289us/step - loss: 0.7230 - acc: 0.6817 - val_loss: 0.7274 - val_acc: 0.6818\n",
      "Epoch 59/100\n",
      "4310/4310 [==============================] - 1s 309us/step - loss: 0.6843 - acc: 0.7021 - val_loss: 0.7404 - val_acc: 0.6679\n",
      "Epoch 60/100\n",
      "4310/4310 [==============================] - 1s 344us/step - loss: 0.6974 - acc: 0.6912 - val_loss: 0.7708 - val_acc: 0.6735\n",
      "Epoch 61/100\n",
      "4310/4310 [==============================] - 1s 287us/step - loss: 0.6715 - acc: 0.7058 - val_loss: 0.7922 - val_acc: 0.6596\n",
      "Epoch 62/100\n",
      "4310/4310 [==============================] - 1s 285us/step - loss: 0.6860 - acc: 0.6949 - val_loss: 0.8149 - val_acc: 0.6401\n",
      "Epoch 63/100\n",
      "4310/4310 [==============================] - 1s 289us/step - loss: 0.6861 - acc: 0.6951 - val_loss: 0.7573 - val_acc: 0.6707\n",
      "Epoch 64/100\n",
      "4310/4310 [==============================] - 1s 285us/step - loss: 0.6795 - acc: 0.6944 - val_loss: 0.7277 - val_acc: 0.6781\n",
      "Epoch 65/100\n",
      "4310/4310 [==============================] - 1s 279us/step - loss: 0.8384 - acc: 0.6211 - val_loss: 0.9283 - val_acc: 0.5974\n",
      "Epoch 66/100\n",
      "4310/4310 [==============================] - 1s 303us/step - loss: 0.8992 - acc: 0.5991 - val_loss: 0.9231 - val_acc: 0.6020\n",
      "Epoch 67/100\n",
      "4310/4310 [==============================] - 1s 292us/step - loss: 0.8930 - acc: 0.5981 - val_loss: 0.9326 - val_acc: 0.5974\n",
      "Epoch 68/100\n",
      "4310/4310 [==============================] - 1s 291us/step - loss: 0.8951 - acc: 0.6039 - val_loss: 0.9462 - val_acc: 0.5798\n",
      "Epoch 69/100\n",
      "4310/4310 [==============================] - 1s 291us/step - loss: 0.8933 - acc: 0.5988 - val_loss: 0.9449 - val_acc: 0.5937\n",
      "Epoch 70/100\n",
      "4310/4310 [==============================] - 1s 285us/step - loss: 0.8846 - acc: 0.6009 - val_loss: 0.9136 - val_acc: 0.5946\n",
      "Epoch 71/100\n",
      "4310/4310 [==============================] - 1s 290us/step - loss: 0.8872 - acc: 0.6046 - val_loss: 0.9397 - val_acc: 0.5946\n",
      "Epoch 72/100\n",
      "4310/4310 [==============================] - 1s 288us/step - loss: 0.8901 - acc: 0.6072 - val_loss: 0.9203 - val_acc: 0.6030\n",
      "Epoch 73/100\n",
      "4310/4310 [==============================] - 1s 297us/step - loss: 0.8847 - acc: 0.5998 - val_loss: 0.9340 - val_acc: 0.6058\n",
      "Epoch 74/100\n",
      "4310/4310 [==============================] - 1s 298us/step - loss: 0.8851 - acc: 0.6077 - val_loss: 0.9364 - val_acc: 0.5937\n",
      "Epoch 75/100\n",
      "4310/4310 [==============================] - 1s 283us/step - loss: 0.8851 - acc: 0.6037 - val_loss: 0.9043 - val_acc: 0.5983\n",
      "Epoch 76/100\n",
      "4310/4310 [==============================] - 1s 282us/step - loss: 0.8891 - acc: 0.6058 - val_loss: 0.9271 - val_acc: 0.5974\n",
      "Epoch 77/100\n",
      "4310/4310 [==============================] - 1s 289us/step - loss: 0.8993 - acc: 0.5944 - val_loss: 0.9173 - val_acc: 0.5918\n",
      "Epoch 78/100\n",
      "4310/4310 [==============================] - 1s 298us/step - loss: 0.8785 - acc: 0.6074 - val_loss: 0.8819 - val_acc: 0.6271\n",
      "Epoch 79/100\n",
      "4310/4310 [==============================] - 1s 282us/step - loss: 0.8795 - acc: 0.6037 - val_loss: 1.1440 - val_acc: 0.5538\n",
      "Epoch 80/100\n",
      "4310/4310 [==============================] - 1s 296us/step - loss: 0.8764 - acc: 0.6058 - val_loss: 0.9199 - val_acc: 0.5909\n",
      "Epoch 81/100\n",
      "4310/4310 [==============================] - 1s 287us/step - loss: 0.8912 - acc: 0.6046 - val_loss: 0.9519 - val_acc: 0.5863\n",
      "Epoch 82/100\n",
      "4310/4310 [==============================] - 1s 300us/step - loss: 0.8730 - acc: 0.6132 - val_loss: 0.9362 - val_acc: 0.6011\n",
      "Epoch 83/100\n",
      "4310/4310 [==============================] - 1s 287us/step - loss: 0.8831 - acc: 0.6060 - val_loss: 0.9762 - val_acc: 0.5993\n",
      "Epoch 84/100\n",
      "4310/4310 [==============================] - 1s 298us/step - loss: 0.8721 - acc: 0.6100 - val_loss: 0.9003 - val_acc: 0.6160\n",
      "Epoch 85/100\n",
      "4310/4310 [==============================] - 1s 292us/step - loss: 0.8684 - acc: 0.6118 - val_loss: 0.9075 - val_acc: 0.5965\n",
      "Epoch 86/100\n",
      "4310/4310 [==============================] - 1s 292us/step - loss: 0.8829 - acc: 0.6090 - val_loss: 0.9233 - val_acc: 0.5955\n",
      "Epoch 87/100\n",
      "4310/4310 [==============================] - 1s 278us/step - loss: 0.8807 - acc: 0.6060 - val_loss: 0.9093 - val_acc: 0.6104\n",
      "Epoch 88/100\n",
      "4310/4310 [==============================] - 1s 301us/step - loss: 0.8672 - acc: 0.6202 - val_loss: 0.9800 - val_acc: 0.5955\n",
      "Epoch 89/100\n",
      "4310/4310 [==============================] - 1s 288us/step - loss: 0.8721 - acc: 0.6121 - val_loss: 0.9186 - val_acc: 0.6011\n",
      "Epoch 90/100\n",
      "4310/4310 [==============================] - 1s 290us/step - loss: 0.8628 - acc: 0.6193 - val_loss: 0.9198 - val_acc: 0.5955\n",
      "Epoch 91/100\n",
      "4310/4310 [==============================] - 1s 280us/step - loss: 0.8725 - acc: 0.6051 - val_loss: 0.9248 - val_acc: 0.5891\n",
      "Epoch 92/100\n",
      "4310/4310 [==============================] - 1s 284us/step - loss: 0.8735 - acc: 0.6104 - val_loss: 0.9567 - val_acc: 0.5909\n",
      "Epoch 93/100\n",
      "4310/4310 [==============================] - 1s 294us/step - loss: 0.8722 - acc: 0.6074 - val_loss: 0.9017 - val_acc: 0.6243\n",
      "Epoch 94/100\n",
      "4310/4310 [==============================] - 1s 295us/step - loss: 0.8624 - acc: 0.6265 - val_loss: 0.9257 - val_acc: 0.6132\n",
      "Epoch 95/100\n",
      "4310/4310 [==============================] - 1s 290us/step - loss: 0.8774 - acc: 0.6114 - val_loss: 0.9758 - val_acc: 0.5891\n",
      "Epoch 96/100\n",
      "4310/4310 [==============================] - 1s 291us/step - loss: 0.8846 - acc: 0.6079 - val_loss: 0.9299 - val_acc: 0.5891\n",
      "Epoch 97/100\n",
      "4310/4310 [==============================] - 1s 304us/step - loss: 0.8677 - acc: 0.6151 - val_loss: 0.9635 - val_acc: 0.6122\n",
      "Epoch 98/100\n",
      "4310/4310 [==============================] - 1s 287us/step - loss: 0.8657 - acc: 0.6107 - val_loss: 0.9293 - val_acc: 0.6132\n",
      "Epoch 99/100\n",
      "4310/4310 [==============================] - 1s 302us/step - loss: 0.8733 - acc: 0.6086 - val_loss: 0.8946 - val_acc: 0.6095\n",
      "Epoch 100/100\n",
      "4310/4310 [==============================] - 1s 291us/step - loss: 0.8615 - acc: 0.6160 - val_loss: 0.9745 - val_acc: 0.6011\n"
     ]
    }
   ],
   "source": [
    "epochs = 100\n",
    "batch_size = 16\n",
    "std_model = network()\n",
    "std_model.compile(loss='categorical_crossentropy',\n",
    "                  optimizer='adam',\n",
    "                  metrics=['accuracy'])\n",
    "\n",
    "history_std = std_model.fit(x_train, y_train,\n",
    "                  batch_size=batch_size,\n",
    "                  epochs=epochs,\n",
    "                  verbose=1,\n",
    "                  validation_data=[x_val,y_val],\n",
    "                  )"
   ]
  },
  {
   "cell_type": "markdown",
   "metadata": {},
   "source": [
    "WEIGHTED"
   ]
  },
  {
   "cell_type": "code",
   "execution_count": 220,
   "metadata": {},
   "outputs": [],
   "source": [
    "# Set up weight for weighted cross entropy\n",
    "# goal_class = [3]\n",
    "class_weight = np.ones((num_classes))\n",
    "class_weight[0] = 1.4\n",
    "class_weight[2] = 1.8\n"
   ]
  },
  {
   "cell_type": "code",
   "execution_count": 221,
   "metadata": {},
   "outputs": [
    {
     "name": "stderr",
     "output_type": "stream",
     "text": [
      "c:\\Users\\felip\\miniconda3\\envs\\vits-pip\\lib\\site-packages\\ipykernel_launcher.py:13: UserWarning: Update your `Dense` call to the Keras 2 API: `Dense(80, activation=\"relu\", input_shape=(3072,), kernel_regularizer=<keras.reg...)`\n",
      "  del sys.path[0]\n",
      "c:\\Users\\felip\\miniconda3\\envs\\vits-pip\\lib\\site-packages\\ipykernel_launcher.py:15: UserWarning: Update your `Dense` call to the Keras 2 API: `Dense(80, activation=\"relu\", kernel_regularizer=<keras.reg...)`\n",
      "  from ipykernel import kernelapp as app\n",
      "c:\\Users\\felip\\miniconda3\\envs\\vits-pip\\lib\\site-packages\\ipykernel_launcher.py:17: UserWarning: Update your `Dense` call to the Keras 2 API: `Dense(80, activation=\"relu\", kernel_regularizer=<keras.reg...)`\n",
      "c:\\Users\\felip\\miniconda3\\envs\\vits-pip\\lib\\site-packages\\ipykernel_launcher.py:19: UserWarning: Update your `Dense` call to the Keras 2 API: `Dense(4, activation=\"softmax\", kernel_regularizer=<keras.reg...)`\n"
     ]
    },
    {
     "name": "stdout",
     "output_type": "stream",
     "text": [
      "Train on 4310 samples, validate on 1078 samples\n",
      "Epoch 1/40\n",
      "4310/4310 [==============================] - 2s 493us/step - loss: 1.0541 - acc: 0.5213 - val_loss: 0.8671 - val_acc: 0.6317\n",
      "Epoch 2/40\n",
      "4310/4310 [==============================] - 1s 292us/step - loss: 0.8352 - acc: 0.6253 - val_loss: 0.7843 - val_acc: 0.6438\n",
      "Epoch 3/40\n",
      "4310/4310 [==============================] - 1s 307us/step - loss: 0.7878 - acc: 0.6374 - val_loss: 0.7482 - val_acc: 0.6670\n",
      "Epoch 4/40\n",
      "4310/4310 [==============================] - 1s 282us/step - loss: 0.7698 - acc: 0.6508 - val_loss: 0.8230 - val_acc: 0.6391\n",
      "Epoch 5/40\n",
      "4310/4310 [==============================] - 1s 282us/step - loss: 0.7481 - acc: 0.6691 - val_loss: 0.7829 - val_acc: 0.6614\n",
      "Epoch 6/40\n",
      "4310/4310 [==============================] - 1s 293us/step - loss: 0.7350 - acc: 0.6805 - val_loss: 0.7525 - val_acc: 0.6716\n",
      "Epoch 7/40\n",
      "4310/4310 [==============================] - 1s 322us/step - loss: 0.7358 - acc: 0.6731 - val_loss: 0.7443 - val_acc: 0.6688\n",
      "Epoch 8/40\n",
      "4310/4310 [==============================] - 1s 331us/step - loss: 0.7158 - acc: 0.6749 - val_loss: 0.7583 - val_acc: 0.6716\n",
      "Epoch 9/40\n",
      "4310/4310 [==============================] - 1s 305us/step - loss: 0.7284 - acc: 0.6691 - val_loss: 0.7096 - val_acc: 0.6902\n",
      "Epoch 10/40\n",
      "4310/4310 [==============================] - 2s 348us/step - loss: 0.7219 - acc: 0.6800 - val_loss: 0.7142 - val_acc: 0.6800\n",
      "Epoch 11/40\n",
      "4310/4310 [==============================] - 1s 329us/step - loss: 0.7051 - acc: 0.6877 - val_loss: 0.7420 - val_acc: 0.6874\n",
      "Epoch 12/40\n",
      "4310/4310 [==============================] - 1s 298us/step - loss: 0.7079 - acc: 0.6833 - val_loss: 0.6978 - val_acc: 0.6994\n",
      "Epoch 13/40\n",
      "4310/4310 [==============================] - 1s 309us/step - loss: 0.7056 - acc: 0.6838 - val_loss: 0.7228 - val_acc: 0.6874\n",
      "Epoch 14/40\n",
      "4310/4310 [==============================] - 1s 300us/step - loss: 0.6913 - acc: 0.6935 - val_loss: 0.7287 - val_acc: 0.6883\n",
      "Epoch 15/40\n",
      "4310/4310 [==============================] - 1s 311us/step - loss: 0.7004 - acc: 0.6935 - val_loss: 0.7396 - val_acc: 0.6800\n",
      "Epoch 16/40\n",
      "4310/4310 [==============================] - 1s 289us/step - loss: 0.6890 - acc: 0.6912 - val_loss: 0.7279 - val_acc: 0.6929\n",
      "Epoch 17/40\n",
      "4310/4310 [==============================] - 1s 286us/step - loss: 0.6885 - acc: 0.6942 - val_loss: 0.7748 - val_acc: 0.6568\n",
      "Epoch 18/40\n",
      "4310/4310 [==============================] - 1s 289us/step - loss: 0.6973 - acc: 0.6972 - val_loss: 0.7341 - val_acc: 0.6716\n",
      "Epoch 19/40\n",
      "4310/4310 [==============================] - 1s 285us/step - loss: 0.6869 - acc: 0.6974 - val_loss: 0.7065 - val_acc: 0.6985\n",
      "Epoch 20/40\n",
      "4310/4310 [==============================] - 1s 276us/step - loss: 0.6753 - acc: 0.7130 - val_loss: 0.7451 - val_acc: 0.6725\n",
      "Epoch 21/40\n",
      "4310/4310 [==============================] - 1s 281us/step - loss: 0.6768 - acc: 0.7012 - val_loss: 0.7218 - val_acc: 0.6763\n",
      "Epoch 22/40\n",
      "4310/4310 [==============================] - 1s 275us/step - loss: 0.6621 - acc: 0.7070 - val_loss: 0.7740 - val_acc: 0.6763\n",
      "Epoch 23/40\n",
      "4310/4310 [==============================] - 1s 280us/step - loss: 0.6729 - acc: 0.7014 - val_loss: 0.7057 - val_acc: 0.6967\n",
      "Epoch 24/40\n",
      "4310/4310 [==============================] - 1s 288us/step - loss: 0.6557 - acc: 0.7100 - val_loss: 0.7157 - val_acc: 0.6827\n",
      "Epoch 25/40\n",
      "4310/4310 [==============================] - 1s 282us/step - loss: 0.6706 - acc: 0.7035 - val_loss: 0.7242 - val_acc: 0.6642\n",
      "Epoch 26/40\n",
      "4310/4310 [==============================] - 1s 278us/step - loss: 0.6649 - acc: 0.7074 - val_loss: 0.7181 - val_acc: 0.6929\n",
      "Epoch 27/40\n",
      "4310/4310 [==============================] - 2s 356us/step - loss: 0.6693 - acc: 0.7016 - val_loss: 0.7572 - val_acc: 0.6698\n",
      "Epoch 28/40\n",
      "4310/4310 [==============================] - 1s 336us/step - loss: 0.6573 - acc: 0.7135 - val_loss: 0.6875 - val_acc: 0.7059\n",
      "Epoch 29/40\n",
      "4310/4310 [==============================] - 1s 277us/step - loss: 0.6696 - acc: 0.7077 - val_loss: 0.7170 - val_acc: 0.6874\n",
      "Epoch 30/40\n",
      "4310/4310 [==============================] - 1s 347us/step - loss: 0.6637 - acc: 0.7121 - val_loss: 0.7686 - val_acc: 0.6753\n",
      "Epoch 31/40\n",
      "4310/4310 [==============================] - 1s 301us/step - loss: 0.6870 - acc: 0.6963 - val_loss: 0.6952 - val_acc: 0.7134\n",
      "Epoch 32/40\n",
      "4310/4310 [==============================] - 1s 303us/step - loss: 0.6587 - acc: 0.7121 - val_loss: 0.7314 - val_acc: 0.6818\n",
      "Epoch 33/40\n",
      "4310/4310 [==============================] - 1s 295us/step - loss: 0.6407 - acc: 0.7200 - val_loss: 0.7059 - val_acc: 0.7124\n",
      "Epoch 34/40\n",
      "4310/4310 [==============================] - 1s 304us/step - loss: 0.6679 - acc: 0.7067 - val_loss: 0.7121 - val_acc: 0.6874\n",
      "Epoch 35/40\n",
      "4310/4310 [==============================] - 1s 310us/step - loss: 0.6529 - acc: 0.7186 - val_loss: 0.7207 - val_acc: 0.6809\n",
      "Epoch 36/40\n",
      "4310/4310 [==============================] - 1s 313us/step - loss: 0.6353 - acc: 0.7190 - val_loss: 0.7012 - val_acc: 0.6902\n",
      "Epoch 37/40\n",
      "4310/4310 [==============================] - 1s 333us/step - loss: 0.6304 - acc: 0.7209 - val_loss: 0.7456 - val_acc: 0.6892\n",
      "Epoch 38/40\n",
      "4310/4310 [==============================] - 1s 311us/step - loss: 0.6458 - acc: 0.7200 - val_loss: 0.6816 - val_acc: 0.7115\n",
      "Epoch 39/40\n",
      "4310/4310 [==============================] - 1s 285us/step - loss: 0.6436 - acc: 0.7197 - val_loss: 0.7005 - val_acc: 0.6948\n",
      "Epoch 40/40\n",
      "4310/4310 [==============================] - 1s 330us/step - loss: 0.6487 - acc: 0.7132 - val_loss: 0.6879 - val_acc: 0.7050\n"
     ]
    }
   ],
   "source": [
    "we_model = network()\n",
    "we_model.compile(loss='categorical_crossentropy',\n",
    "                  optimizer='adam',\n",
    "                  metrics=['accuracy'])\n",
    "\n",
    "history_we = we_model.fit(x_train, y_train,\n",
    "                  batch_size=batch_size,\n",
    "                  epochs=40,\n",
    "                  verbose=1,\n",
    "                  validation_data=[x_val,y_val],\n",
    "                  class_weight = class_weight, \n",
    "                  )\n"
   ]
  },
  {
   "cell_type": "markdown",
   "metadata": {},
   "source": [
    "LOSS CALIBRATED"
   ]
  },
  {
   "cell_type": "code",
   "execution_count": 222,
   "metadata": {},
   "outputs": [
    {
     "name": "stderr",
     "output_type": "stream",
     "text": [
      "c:\\Users\\felip\\miniconda3\\envs\\vits-pip\\lib\\site-packages\\ipykernel_launcher.py:13: UserWarning: Update your `Dense` call to the Keras 2 API: `Dense(80, activation=\"relu\", input_shape=(3072,), kernel_regularizer=<keras.reg...)`\n",
      "  del sys.path[0]\n",
      "c:\\Users\\felip\\miniconda3\\envs\\vits-pip\\lib\\site-packages\\ipykernel_launcher.py:15: UserWarning: Update your `Dense` call to the Keras 2 API: `Dense(80, activation=\"relu\", kernel_regularizer=<keras.reg...)`\n",
      "  from ipykernel import kernelapp as app\n",
      "c:\\Users\\felip\\miniconda3\\envs\\vits-pip\\lib\\site-packages\\ipykernel_launcher.py:17: UserWarning: Update your `Dense` call to the Keras 2 API: `Dense(80, activation=\"relu\", kernel_regularizer=<keras.reg...)`\n",
      "c:\\Users\\felip\\miniconda3\\envs\\vits-pip\\lib\\site-packages\\ipykernel_launcher.py:19: UserWarning: Update your `Dense` call to the Keras 2 API: `Dense(4, activation=\"softmax\", kernel_regularizer=<keras.reg...)`\n",
      "c:\\Users\\felip\\miniconda3\\envs\\vits-pip\\lib\\site-packages\\ipykernel_launcher.py:27: UserWarning: The `nb_epoch` argument in `fit` has been renamed `epochs`.\n"
     ]
    },
    {
     "name": "stdout",
     "output_type": "stream",
     "text": [
      "Train on 4310 samples, validate on 1078 samples\n",
      "Epoch 1/1\n",
      "4310/4310 [==============================] - 2s 531us/step - loss: 1.6867 - val_loss: 1.3411\n",
      "Train on 4310 samples, validate on 1078 samples\n",
      "Epoch 1/1\n",
      "4310/4310 [==============================] - 1s 300us/step - loss: 1.1515 - val_loss: 1.3110\n",
      "Train on 4310 samples, validate on 1078 samples\n",
      "Epoch 1/1\n",
      "4310/4310 [==============================] - 1s 302us/step - loss: 1.0740 - val_loss: 1.1873\n",
      "Train on 4310 samples, validate on 1078 samples\n",
      "Epoch 1/1\n",
      "4310/4310 [==============================] - 1s 329us/step - loss: 1.0537 - val_loss: 1.1861\n",
      "Train on 4310 samples, validate on 1078 samples\n",
      "Epoch 1/1\n",
      "4310/4310 [==============================] - 1s 292us/step - loss: 1.0457 - val_loss: 1.1855\n",
      "Train on 4310 samples, validate on 1078 samples\n",
      "Epoch 1/1\n",
      "4310/4310 [==============================] - 1s 309us/step - loss: 1.0214 - val_loss: 1.2215\n",
      "Train on 4310 samples, validate on 1078 samples\n",
      "Epoch 1/1\n",
      "4310/4310 [==============================] - 1s 308us/step - loss: 1.0247 - val_loss: 1.2010\n",
      "Train on 4310 samples, validate on 1078 samples\n",
      "Epoch 1/1\n",
      "4310/4310 [==============================] - 1s 301us/step - loss: 1.0284 - val_loss: 1.2666\n",
      "Train on 4310 samples, validate on 1078 samples\n",
      "Epoch 1/1\n",
      "4310/4310 [==============================] - 1s 277us/step - loss: 0.9785 - val_loss: 1.1817\n",
      "Train on 4310 samples, validate on 1078 samples\n",
      "Epoch 1/1\n",
      "4310/4310 [==============================] - 1s 291us/step - loss: 0.9737 - val_loss: 1.1953\n",
      "Train on 4310 samples, validate on 1078 samples\n",
      "Epoch 1/1\n",
      "4310/4310 [==============================] - 1s 295us/step - loss: 0.9683 - val_loss: 1.1560\n",
      "Train on 4310 samples, validate on 1078 samples\n",
      "Epoch 1/1\n",
      "4310/4310 [==============================] - 1s 292us/step - loss: 0.9465 - val_loss: 1.2366\n",
      "Train on 4310 samples, validate on 1078 samples\n",
      "Epoch 1/1\n",
      "4310/4310 [==============================] - 1s 302us/step - loss: 0.9748 - val_loss: 1.1760\n",
      "Train on 4310 samples, validate on 1078 samples\n",
      "Epoch 1/1\n",
      "4310/4310 [==============================] - 1s 292us/step - loss: 0.9542 - val_loss: 1.1781\n",
      "Train on 4310 samples, validate on 1078 samples\n",
      "Epoch 1/1\n",
      "4310/4310 [==============================] - 1s 293us/step - loss: 0.9674 - val_loss: 1.1843\n",
      "Train on 4310 samples, validate on 1078 samples\n",
      "Epoch 1/1\n",
      "4310/4310 [==============================] - 1s 293us/step - loss: 0.9429 - val_loss: 1.2045\n",
      "Train on 4310 samples, validate on 1078 samples\n",
      "Epoch 1/1\n",
      "4310/4310 [==============================] - 1s 304us/step - loss: 0.9522 - val_loss: 1.1936\n",
      "Train on 4310 samples, validate on 1078 samples\n",
      "Epoch 1/1\n",
      "4310/4310 [==============================] - 1s 297us/step - loss: 0.9417 - val_loss: 1.1347\n",
      "Train on 4310 samples, validate on 1078 samples\n",
      "Epoch 1/1\n",
      "4310/4310 [==============================] - 1s 295us/step - loss: 0.9290 - val_loss: 1.1693\n",
      "Train on 4310 samples, validate on 1078 samples\n",
      "Epoch 1/1\n",
      "4310/4310 [==============================] - 1s 288us/step - loss: 0.9503 - val_loss: 1.1335\n"
     ]
    }
   ],
   "source": [
    "M = 1.0001\n",
    "basic_model = network()\n",
    "# Initilise loss\n",
    "decision_loss = lcbnn.loss_K(U)\n",
    "\n",
    "H_x = Input(shape=(num_classes,),name='H_x')\n",
    "y_true = Input(shape=(num_classes,),name='y_true')\n",
    "x = Input(shape=(x_train.shape[1:]),name='x')\n",
    "\n",
    "y_pred = basic_model(x)\n",
    "\n",
    "lc_model = Model([x,H_x],y_pred)\n",
    "lc_model.compile(loss = lcbnn.cal_loss(decision_loss,M,H_x),optimizer='adam')\n",
    "\n",
    "#Initiailisations:\n",
    "y_pred_samples = np.expand_dims(y_train,0)\n",
    "y_pred_samples_val = np.expand_dims(y_val,0)\n",
    "H_x = lcbnn.optimal_h(y_pred_samples,U) #np.random.randint(0,2,(np.shape(y_train)))\n",
    "H_x_val = lcbnn.optimal_h(y_pred_samples_val,U)\n",
    "\n",
    "history_lc = []\n",
    "for epoch in range(20):\n",
    "    h_lc = lc_model.fit([x_train,H_x],[y_train],\n",
    "                 batch_size=batch_size,\n",
    "                 nb_epoch=1,\n",
    "                 verbose=1,\n",
    "                 validation_data=[[x_val,H_x_val],y_val],\n",
    "                 )\n",
    "    T = 10\n",
    "    yt_hat = np.array([lc_model.predict([x_train,H_x]) for _ in range(T)])\n",
    "    H_x = lcbnn.optimal_h(yt_hat,U)\n",
    "    history_lc.append(h_lc)"
   ]
  },
  {
   "cell_type": "markdown",
   "metadata": {},
   "source": [
    "RESULTS"
   ]
  },
  {
   "cell_type": "code",
   "execution_count": 223,
   "metadata": {},
   "outputs": [
    {
     "name": "stdout",
     "output_type": "stream",
     "text": [
      "Standard:\n",
      "\n",
      "Accuracy on optimal decision:  0.45331325301204817\n",
      "Expected loss:  0.2979915662650602\n",
      "\n",
      "Weighted:\n",
      "\n",
      "Accuracy on optimal decision:  0.5195783132530121\n",
      "Expected loss:  0.22916626506024093\n",
      "\n",
      "Loss-cal:\n",
      "\n",
      "Accuracy on optimal decision:  0.6310240963855421\n",
      "Expected loss:  0.22600361445783126\n"
     ]
    }
   ],
   "source": [
    "T = 100\n",
    "loss_mat = U\n",
    "H_x_test = np.zeros_like(y_test)\n",
    "\n",
    "#######\n",
    "# STD #\n",
    "#######\n",
    "yt_hat_std = np.array([std_model.predict([X_test]) for _ in range(T)])\n",
    "MC_pred_std = np.mean(yt_hat_std, 0)\n",
    "H_x_test_std = lcbnn.optimal_h(yt_hat_std,loss_mat) \n",
    "acc_std = accuracy_score(np.argmax(y_test,1),np.argmax(H_x_test_std,1))\n",
    "loss_std = np.mean(lcbnn.loss_np(y_test,H_x_test_std,loss_mat))\n",
    "print('Standard:\\n')\n",
    "print('Accuracy on optimal decision: ', acc_std)\n",
    "print('Expected loss: ', loss_std)\n",
    "\n",
    "#######\n",
    "# WEI #\n",
    "#######\n",
    "yt_hat_we = np.array([we_model.predict([X_test]) for _ in range(T)])\n",
    "MC_pred_we = np.mean(yt_hat_we, 0)\n",
    "H_x_test_we = lcbnn.optimal_h(yt_hat_we,loss_mat) \n",
    "acc_we = accuracy_score(np.argmax(y_test,1),np.argmax(H_x_test_we,1))\n",
    "loss_we = np.mean(lcbnn.loss_np(y_test,H_x_test_we,loss_mat))\n",
    "\n",
    "print('\\nWeighted:\\n')\n",
    "print('Accuracy on optimal decision: ', acc_we)\n",
    "print('Expected loss: ', loss_we)\n",
    "\n",
    "#######\n",
    "# L-C #\n",
    "#######\n",
    "yt_hat_lc = np.array([lc_model.predict([X_test, H_x_test]) for _ in range(T)])\n",
    "MC_pred_lc = np.mean(yt_hat_lc, 0)\n",
    "H_x_test_lc = lcbnn.optimal_h(yt_hat_lc,loss_mat) \n",
    "acc_lc = accuracy_score(np.argmax(y_test,1),np.argmax(H_x_test_lc,1))\n",
    "loss_lc = np.mean(lcbnn.loss_np(y_test,H_x_test_lc,loss_mat))\n",
    "print('\\nLoss-cal:\\n')\n",
    "print('Accuracy on optimal decision: ', acc_lc)\n",
    "print('Expected loss: ', loss_lc)\n"
   ]
  },
  {
   "cell_type": "markdown",
   "metadata": {},
   "source": [
    "CONFUSION MATRICES"
   ]
  },
  {
   "cell_type": "code",
   "execution_count": 225,
   "metadata": {},
   "outputs": [
    {
     "name": "stdout",
     "output_type": "stream",
     "text": [
      "Normalized confusion matrix\n",
      "[[0.29 0.06 0.   0.65]\n",
      " [0.   0.86 0.   0.14]\n",
      " [0.02 0.34 0.   0.64]\n",
      " [0.33 0.05 0.   0.62]]\n",
      "Normalized confusion matrix\n",
      "[[0.27 0.   0.08 0.64]\n",
      " [0.   0.77 0.01 0.21]\n",
      " [0.02 0.07 0.36 0.54]\n",
      " [0.   0.   0.   1.  ]]\n",
      "Normalized confusion matrix\n",
      "[[0.39 0.03 0.15 0.43]\n",
      " [0.   0.93 0.03 0.04]\n",
      " [0.05 0.21 0.45 0.28]\n",
      " [0.03 0.07 0.   0.9 ]]\n"
     ]
    },
    {
     "data": {
      "image/png": "[encoded data removed]",
      "text/plain": [
       "<Figure size 1080x1080 with 3 Axes>"
      ]
     },
     "metadata": {
      "needs_background": "light"
     },
     "output_type": "display_data"
    }
   ],
   "source": [
    "plt.rcParams['figure.figsize'] = (15, 15)\n",
    "\n",
    "H_std = np.argmax(H_x_test_std, axis=1)\n",
    "H_we = np.argmax(H_x_test_we, axis=1)\n",
    "H_lc = np.argmax(H_x_test_lc, axis=1)\n",
    "\n",
    "Y = np.argmax(y_test, axis=1)\n",
    "cnf_matrix_std = confusion_matrix(Y.reshape((y_test.shape[0],)).astype('float'),np.round(H_std.reshape((H_x_test.shape[0],))))\n",
    "np.set_printoptions(precision=2)\n",
    "cnf_matrix_we = confusion_matrix(Y.reshape((y_test.shape[0],)).astype('float'),np.round(H_we.reshape((H_x_test.shape[0],))))\n",
    "np.set_printoptions(precision=2)\n",
    "cnf_matrix_lc = confusion_matrix(Y.reshape((y_test.shape[0],)).astype('float'),np.round(H_lc.reshape((H_x_test.shape[0],))))\n",
    "np.set_printoptions(precision=2)\n",
    "\n",
    "plt.subplot(131)\n",
    "# Plot normalized confusion matrix\n",
    "plot_confusion_matrix(cnf_matrix_std, classes=classes, normalize=True,\n",
    "                      title='Std')\n",
    "\n",
    "plt.subplot(132)\n",
    "# Plot normalized confusion matrix\n",
    "plot_confusion_matrix(cnf_matrix_we, classes=classes, normalize=True,\n",
    "                      title='We')\n",
    "\n",
    "plt.subplot(133)\n",
    "# Plot normalized confusion matrix\n",
    "plot_confusion_matrix(cnf_matrix_lc, classes=classes, normalize=True,\n",
    "                      title='Lc')\n",
    "plt.show()"
   ]
  },
  {
   "cell_type": "markdown",
   "metadata": {},
   "source": [
    "TRAINING STATISTICS"
   ]
  },
  {
   "cell_type": "code",
   "execution_count": 71,
   "metadata": {},
   "outputs": [
    {
     "data": {
      "image/png": "[encoded data removed]",
      "text/plain": [
       "<Figure size 1080x1080 with 1 Axes>"
      ]
     },
     "metadata": {
      "needs_background": "light"
     },
     "output_type": "display_data"
    },
    {
     "data": {
      "image/png": "[encoded data removed]",
      "text/plain": [
       "<Figure size 1080x1080 with 1 Axes>"
      ]
     },
     "metadata": {
      "needs_background": "light"
     },
     "output_type": "display_data"
    }
   ],
   "source": [
    "h = []\n",
    "h_val = []\n",
    "for i in range(epochs):\n",
    "    h.append(history_lc[i].history['loss'])\n",
    "    h_val.append(history_lc[i].history['val_loss'])\n",
    "    \n",
    "plt.figure()\n",
    "plt.title('Training data')\n",
    "plt.plot(history_std.history['loss'], label='Std')\n",
    "plt.plot(history_we.history['loss'], label='We')\n",
    "plt.plot(h,label='LC')\n",
    "plt.legend()\n",
    "plt.show()\n",
    "\n",
    "plt.figure()\n",
    "plt.title('Validation data')\n",
    "plt.plot(history_std.history['val_loss'], label='Std')\n",
    "plt.plot(history_we.history['val_loss'], label='We')\n",
    "plt.plot(h_val,label='LC')\n",
    "plt.legend()\n",
    "plt.show()"
   ]
  }
 ],
 "metadata": {
  "kernelspec": {
   "display_name": "Kernel-env",
   "language": "python",
   "name": "python3"
  },
  "language_info": {
   "codemirror_mode": {
    "name": "ipython",
    "version": 3
   },
   "file_extension": ".py",
   "mimetype": "text/x-python",
   "name": "python",
   "nbconvert_exporter": "python",
   "pygments_lexer": "ipython3",
   "version": "3.6.15"
  }
 },
 "nbformat": 4,
 "nbformat_minor": 2
}
